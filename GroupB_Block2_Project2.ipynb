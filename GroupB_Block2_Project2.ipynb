{
 "cells": [
  {
   "cell_type": "markdown",
   "id": "c6ba93bd",
   "metadata": {},
   "source": [
    "# Project 2 \n",
    "**Group B** \\\n",
    "Students: Elodie-Angélique Lendi, Mridhula Jayasankar, Clarice Jasmine Mihalache\n",
    "\n"
   ]
  },
  {
   "cell_type": "markdown",
   "id": "f6e45084",
   "metadata": {},
   "source": [
    "### Question 1"
   ]
  },
  {
   "cell_type": "markdown",
   "id": "fd407c59",
   "metadata": {},
   "source": [
    "AiiDalab is a web platform that allows us to do computational science in both the chemical field and the material science field. On this platform, instead of writting all the code for some calculations we can use what AiiDalab calls \"reads-made apps\" for running simulations and even analysing the results. In addition, it also makes working with collaborators easier. \n",
    "\n",
    "AiiDalab offers three different types of calculations for adsorption studies: \n",
    "1. It helps in providing workflows to run geometry optimization. Hence, it finds the lowest energy configuration for the adsorbate-system. \n",
    "2. Adosorption energy can also be determined. \n",
    "3. Provides an overview into the interaction mechanism between the adsorbate and the surface. \n",
    "\n",
    "However it does not give an insight on the electronic structure which is given by the DFT calcultations. \n",
    "\n",
    "In the app downnloaded during the class, LSMO, the platform gives access to three calcultations: \n",
    "1. Gemoetry optimization and charges - \n",
    "2. Pore analysis - \n",
    "3. Isotherm calculations - \n"
   ]
  }
 ],
 "metadata": {
  "kernelspec": {
   "display_name": "rxnrate2",
   "language": "python",
   "name": "python3"
  },
  "language_info": {
   "name": "python",
   "version": "3.10.16"
  }
 },
 "nbformat": 4,
 "nbformat_minor": 5
}
