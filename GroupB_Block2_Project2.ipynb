{
 "cells": [
  {
   "cell_type": "markdown",
   "id": "c6ba93bd",
   "metadata": {},
   "source": [
    "# Project 2 \n",
    "**Group B** \\\n",
    "Students: Elodie-Angélique Lendi, Mridhula Jayasankar, Clarice Jasmine Mihalache\n",
    "\n"
   ]
  },
  {
   "cell_type": "markdown",
   "id": "02297d4d",
   "metadata": {},
   "source": [
    "print(\"Hello world\")"
   ]
  },
  {
   "cell_type": "code",
   "execution_count": 1,
   "id": "91ed7b79",
   "metadata": {},
   "outputs": [
    {
     "name": "stdout",
     "output_type": "stream",
     "text": [
      "Hello world\n"
     ]
    }
   ],
   "source": [
    "print(\"Hello world\")"
   ]
  },
  {
   "cell_type": "markdown",
   "id": "40a30728",
   "metadata": {},
   "source": [
    "### Question 2\n",
    "\n",
    "\n",
    "`Denisty` 0.576983 $\\frac{g}{cm^3}$ \\\n",
    "`Accessible surface area:` 3964.65 $A^2$ \\\n",
    "`Accessible probe occupiable volume:` 13737.4 $A^3$ \\\n",
    "`Porosity:` 0.77498 = 77.498 %"
   ]
  }
 ],
 "metadata": {
  "kernelspec": {
   "display_name": "Python 3",
   "language": "python",
   "name": "python3"
  },
  "language_info": {
   "codemirror_mode": {
    "name": "ipython",
    "version": 3
   },
   "file_extension": ".py",
   "mimetype": "text/x-python",
   "name": "python",
   "nbconvert_exporter": "python",
   "pygments_lexer": "ipython3",
   "version": "3.13.7"
  }
 },
 "nbformat": 4,
 "nbformat_minor": 5
}
