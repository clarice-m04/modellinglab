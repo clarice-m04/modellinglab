{
 "cells": [
  {
   "cell_type": "markdown",
   "id": "c6ba93bd",
   "metadata": {},
   "source": [
    "# Project 2 \n",
    "**Group B** \\\n",
    "Students: Elodie-Angélique Lendi, Mridhula Jayasankar, Clarice Jasmine Mihalache\n",
    "\n"
   ]
  },
  {
   "cell_type": "markdown",
   "id": "f6e45084",
   "metadata": {},
   "source": [
    "### Question 1"
   ]
  },
  {
   "cell_type": "markdown",
   "id": "fd407c59",
   "metadata": {},
   "source": [
    "AiiDalab is a web platform that allows us to do computational science in both the chemical field and the material science field. On this platform, instead of writting all the code for some calculations we can use what AiiDalab calls \"reads-made apps\" for running simulations and even analysing the results. In addition, it also makes working with collaborators easier. \n",
    "\n",
    "AiiDalab offers three different types of calculations for adsorption studies: \n",
    "1. It helps in providing workflows to run geometry optimization. Hence, it finds the lowest energy configuration for the adsorbate-system. \n",
    "2. Adosorption energy can also be determined. \n",
    "3. Provides an overview into the interaction mechanism between the adsorbate and the surface. \n",
    "\n",
    "However it does not give an insight on the electronic structure which is given by the DFT calcultations. \n",
    "\n",
    "In the app downnloaded during the class, LSMO, the platform gives access to three calcultations: \n",
    "1. Geomoetry optimization and charges - \n",
    "2. Pore analysis - analyses the void network and returns geometric descriptors (like the accessible surface area, accessible pore area etc..)\n",
    "3. Isotherm calculations - allows to plot the graph of the isotherme and returns values such as the Henry coeafficient\n"
   ]
  },
  {
   "cell_type": "markdown",
   "id": "77a3e56d",
   "metadata": {},
   "source": [
    "### Question 6 "
   ]
  },
  {
   "cell_type": "markdown",
   "id": "25f77d1a",
   "metadata": {},
   "source": [
    "Using the formula for the selectivity, the selectivity of CO2 over CH4 at various pressures at 300K can be determined. "
   ]
  },
  {
   "cell_type": "code",
   "execution_count": 2,
   "id": "d1fb78da",
   "metadata": {},
   "outputs": [],
   "source": [
    "def Selectivity (q_CO2, q_CH4): \n",
    "    S = ((q_CO2 * 0.6)/(q_CH4 * 0.4))\n",
    "    return S"
   ]
  },
  {
   "cell_type": "code",
   "execution_count": null,
   "id": "4b792ad7",
   "metadata": {},
   "outputs": [],
   "source": [
    "#Selectivity()"
   ]
  },
  {
   "cell_type": "markdown",
   "id": "7161e9d5",
   "metadata": {},
   "source": [
    "We can see that ...."
   ]
  },
  {
   "cell_type": "markdown",
   "id": "9178dc30",
   "metadata": {},
   "source": [
    "### Question 7"
   ]
  },
  {
   "cell_type": "markdown",
   "id": "36c01b00",
   "metadata": {},
   "source": [
    "We first need to check what values are obtained if the fraction of CO2 drops to 20%."
   ]
  },
  {
   "cell_type": "code",
   "execution_count": null,
   "id": "ee7fe3eb",
   "metadata": {},
   "outputs": [],
   "source": [
    "def Selectivity_2 (q_CO2, q_CH4): \n",
    "    S = ((q_CO2 * 0.2)/(q_CH4 * 0.8))\n",
    "    return S  "
   ]
  },
  {
   "cell_type": "code",
   "execution_count": null,
   "id": "a1ac6d9c",
   "metadata": {},
   "outputs": [],
   "source": [
    "#Selectivity_2 ()"
   ]
  },
  {
   "cell_type": "markdown",
   "id": "0d04cc3b",
   "metadata": {},
   "source": [
    "We can see that the selectivity doesn't change. We can deduce that for low concentrations, the selectivity is independant of the ratio of CO2 and CH4 in the gas phase. Hence the selectivity depends only on the binary loading of both these compounds. \n",
    "\n",
    "In order to test the temperature dependancy, we could have repeated the experiment using different temperatures while keeping the pressure constant. And from this we could have computed the binary mixture isotherms from what we could have extracted the selectivities and compared the results. "
   ]
  }
 ],
 "metadata": {
  "kernelspec": {
   "display_name": "StereoChem",
   "language": "python",
   "name": "python3"
  },
  "language_info": {
   "codemirror_mode": {
    "name": "ipython",
    "version": 3
   },
   "file_extension": ".py",
   "mimetype": "text/x-python",
   "name": "python",
   "nbconvert_exporter": "python",
   "pygments_lexer": "ipython3",
   "version": "3.10.13"
  }
 },
 "nbformat": 4,
 "nbformat_minor": 5
}
