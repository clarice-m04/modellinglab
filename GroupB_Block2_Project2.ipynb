{
 "cells": [
  {
   "cell_type": "markdown",
   "id": "c6ba93bd",
   "metadata": {},
   "source": [
    "# Project 2 \n",
    "**Group B** \\\n",
    "Students: Elodie-Angélique Lendi, Mridhula Jayasankar, Clarice Jasmine Mihalache\n",
    "\n"
   ]
  },
  {
   "cell_type": "markdown",
   "id": "f6e45084",
   "metadata": {},
   "source": [
    "### Question 1"
   ]
  },
  {
   "cell_type": "markdown",
   "id": "fd407c59",
   "metadata": {},
   "source": [
    "AiiDalab is a web platform that allows us to do computational science in both the chemical field and the material science field. On this platform, instead of writting all the code for some calculations we can use what AiiDalab calls \"reads-made apps\" for running simulations and even analysing the results. In addition, it also makes working with collaborators easier. \n",
    "\n",
    "AiiDalab offers three different types of calculations for adsorption studies: \n",
    "1. It helps in providing workflows to run geometry optimization. Hence, it finds the lowest energy configuration for the adsorbate-system. \n",
    "2. Adosorption energy can also be determined. \n",
    "3. Provides an overview into the interaction mechanism between the adsorbate and the surface. \n",
    "\n",
    "However it does not give an insight on the electronic structure which is given by the DFT calcultations. \n",
    "\n",
    "In the app downnloaded during the class, LSMO, the platform gives access to three calcultations: \n",
    "1. Gemoetry optimization and charges - \n",
    "2. Pore analysis - \n",
    "3. Isotherm calculations - \n"
   ]
  },
  {
   "cell_type": "markdown",
   "id": "ec5ce1d7",
   "metadata": {},
   "source": [
    "### Question 5 \n",
    "\n",
    "The aim of this question is to use pyIAST to model binary-mixture isotherms by the linear interpolation method for a pressure range from 0.1 to 4.0 using increments of 0.2. This allows us to plot the results and ...\n"
   ]
  },
  {
   "cell_type": "code",
   "execution_count": 94,
   "id": "8ad18a0d",
   "metadata": {},
   "outputs": [],
   "source": [
    "import pyiast\n",
    "import pandas as pd\n",
    "import matplotlib.pyplot as plt\n",
    "import numpy as np\n",
    "\n",
    "def binary_mixture(y_CH4: float, y_CO2: float):\n",
    "\n",
    "    df_CH4 = pd.read_csv(\"CH4_IRMOF1.csv\")\n",
    "    df_CO2 = pd.read_csv(\"CO2_IRMOF1.csv\")\n",
    "\n",
    "    CO2_isotherm = pyiast.InterpolatorIsotherm(df_CO2, loading_key=\"CO2 loading [mol/kg]\", pressure_key=\"Pressure [bar]\")\n",
    "    CH4_isotherm = pyiast.InterpolatorIsotherm(df_CH4, loading_key=\"CH4 loading [mol/kg]\", pressure_key=\"Pressure [bar]\")\n",
    "    \n",
    "    # Pressure range for this simulation\n",
    "    p_range = np.arange(0.1, 4.1, 0.2)\n",
    "    \n",
    "    # Introduction of a binary mixture\n",
    "    y = [y_CH4, y_CO2]\n",
    "    \n",
    "    # Store results\n",
    "    CO2_ads = []\n",
    "    CH4_ads = []\n",
    "\n",
    "    for p in p_range:\n",
    "        # Partial pressure\n",
    "        p_CO2 = p*y_CO2\n",
    "        p_CH4 = p*y_CH4\n",
    "        results = pyiast.iast([p_CO2, p_CH4], [CO2_isotherm, CH4_isotherm])\n",
    "        CO2_ads.append(results[0])\n",
    "        CH4_ads.append(results[1])\n",
    "\n",
    "    # Plotting graph\n",
    "\n",
    "    plt.figure(figsize=(8,6))\n",
    "    plt.plot(p_range, CO2_ads, marker= \".\", markersize = 10, linewidth = 1, label = \"CO2 uptake\", color = \"darkblue\")\n",
    "    plt.plot(p_range, CH4_ads, marker = \"x\", markersize = 10, linewidth = 1, label = \" CH4 uptake\", color = \"darkgreen\")\n",
    "    plt.xlabel(\"Pressure [bar]\")\n",
    "    plt.ylabel(\"Uptake [mol/kg]\")\n",
    "    plt.title(f\"Binary mixture adsorption isoterms {y_CH4}/{y_CO2} (CH4/CO2)\")\n",
    "    plt.legend()\n",
    "    plt.tight_layout()\n",
    "    plt.show()\n"
   ]
  },
  {
   "cell_type": "code",
   "execution_count": 90,
   "id": "e21813d1",
   "metadata": {},
   "outputs": [
    {
     "data": {
      "text/html": [
       "<div>\n",
       "<style scoped>\n",
       "    .dataframe tbody tr th:only-of-type {\n",
       "        vertical-align: middle;\n",
       "    }\n",
       "\n",
       "    .dataframe tbody tr th {\n",
       "        vertical-align: top;\n",
       "    }\n",
       "\n",
       "    .dataframe thead th {\n",
       "        text-align: right;\n",
       "    }\n",
       "</style>\n",
       "<table border=\"1\" class=\"dataframe\">\n",
       "  <thead>\n",
       "    <tr style=\"text-align: right;\">\n",
       "      <th></th>\n",
       "      <th>Pressure [bar]</th>\n",
       "      <th>CO2 loading [mol/kg]</th>\n",
       "      <th>Enthalpy of adsorption [kJ/mol]</th>\n",
       "    </tr>\n",
       "  </thead>\n",
       "  <tbody>\n",
       "    <tr>\n",
       "      <th>0</th>\n",
       "      <td>0.2</td>\n",
       "      <td>0.100912</td>\n",
       "      <td>-11.576384</td>\n",
       "    </tr>\n",
       "    <tr>\n",
       "      <th>1</th>\n",
       "      <td>0.8</td>\n",
       "      <td>0.396536</td>\n",
       "      <td>-11.841999</td>\n",
       "    </tr>\n",
       "    <tr>\n",
       "      <th>2</th>\n",
       "      <td>1.4</td>\n",
       "      <td>0.718103</td>\n",
       "      <td>-12.023439</td>\n",
       "    </tr>\n",
       "    <tr>\n",
       "      <th>3</th>\n",
       "      <td>2.0</td>\n",
       "      <td>1.043761</td>\n",
       "      <td>-12.121309</td>\n",
       "    </tr>\n",
       "    <tr>\n",
       "      <th>4</th>\n",
       "      <td>2.6</td>\n",
       "      <td>1.382081</td>\n",
       "      <td>-12.160210</td>\n",
       "    </tr>\n",
       "    <tr>\n",
       "      <th>5</th>\n",
       "      <td>3.2</td>\n",
       "      <td>1.737805</td>\n",
       "      <td>-12.462940</td>\n",
       "    </tr>\n",
       "    <tr>\n",
       "      <th>6</th>\n",
       "      <td>3.8</td>\n",
       "      <td>2.164017</td>\n",
       "      <td>-12.448543</td>\n",
       "    </tr>\n",
       "    <tr>\n",
       "      <th>7</th>\n",
       "      <td>4.4</td>\n",
       "      <td>2.444738</td>\n",
       "      <td>-12.727266</td>\n",
       "    </tr>\n",
       "    <tr>\n",
       "      <th>8</th>\n",
       "      <td>5.0</td>\n",
       "      <td>2.797280</td>\n",
       "      <td>-12.731744</td>\n",
       "    </tr>\n",
       "    <tr>\n",
       "      <th>9</th>\n",
       "      <td>5.6</td>\n",
       "      <td>3.224499</td>\n",
       "      <td>-12.934664</td>\n",
       "    </tr>\n",
       "    <tr>\n",
       "      <th>10</th>\n",
       "      <td>6.2</td>\n",
       "      <td>3.505772</td>\n",
       "      <td>-12.798446</td>\n",
       "    </tr>\n",
       "    <tr>\n",
       "      <th>11</th>\n",
       "      <td>6.8</td>\n",
       "      <td>3.998350</td>\n",
       "      <td>-13.363940</td>\n",
       "    </tr>\n",
       "    <tr>\n",
       "      <th>12</th>\n",
       "      <td>7.4</td>\n",
       "      <td>4.490376</td>\n",
       "      <td>-13.484098</td>\n",
       "    </tr>\n",
       "    <tr>\n",
       "      <th>13</th>\n",
       "      <td>8.0</td>\n",
       "      <td>4.964057</td>\n",
       "      <td>-13.881003</td>\n",
       "    </tr>\n",
       "    <tr>\n",
       "      <th>14</th>\n",
       "      <td>8.6</td>\n",
       "      <td>5.356762</td>\n",
       "      <td>-14.133054</td>\n",
       "    </tr>\n",
       "    <tr>\n",
       "      <th>15</th>\n",
       "      <td>9.2</td>\n",
       "      <td>6.122528</td>\n",
       "      <td>-14.253212</td>\n",
       "    </tr>\n",
       "    <tr>\n",
       "      <th>16</th>\n",
       "      <td>9.8</td>\n",
       "      <td>6.789461</td>\n",
       "      <td>-14.781848</td>\n",
       "    </tr>\n",
       "    <tr>\n",
       "      <th>17</th>\n",
       "      <td>10.2</td>\n",
       "      <td>7.141873</td>\n",
       "      <td>-14.687415</td>\n",
       "    </tr>\n",
       "  </tbody>\n",
       "</table>\n",
       "</div>"
      ],
      "text/plain": [
       "    Pressure [bar]  CO2 loading [mol/kg]  Enthalpy of adsorption [kJ/mol]\n",
       "0              0.2              0.100912                       -11.576384\n",
       "1              0.8              0.396536                       -11.841999\n",
       "2              1.4              0.718103                       -12.023439\n",
       "3              2.0              1.043761                       -12.121309\n",
       "4              2.6              1.382081                       -12.160210\n",
       "5              3.2              1.737805                       -12.462940\n",
       "6              3.8              2.164017                       -12.448543\n",
       "7              4.4              2.444738                       -12.727266\n",
       "8              5.0              2.797280                       -12.731744\n",
       "9              5.6              3.224499                       -12.934664\n",
       "10             6.2              3.505772                       -12.798446\n",
       "11             6.8              3.998350                       -13.363940\n",
       "12             7.4              4.490376                       -13.484098\n",
       "13             8.0              4.964057                       -13.881003\n",
       "14             8.6              5.356762                       -14.133054\n",
       "15             9.2              6.122528                       -14.253212\n",
       "16             9.8              6.789461                       -14.781848\n",
       "17            10.2              7.141873                       -14.687415"
      ]
     },
     "execution_count": 90,
     "metadata": {},
     "output_type": "execute_result"
    }
   ],
   "source": [
    "df_CO2"
   ]
  },
  {
   "cell_type": "code",
   "execution_count": 91,
   "id": "00316376",
   "metadata": {},
   "outputs": [
    {
     "name": "stdout",
     "output_type": "stream",
     "text": [
      "2 components.\n",
      "\tPartial pressure component 0 = 1.520000\n",
      "\tPartial pressure component 1 = 2.280000\n",
      "Component  0\n",
      "\tp =  1.52\n",
      "\tp^0 =  2.021274495346004\n",
      "\tLoading:  0.7888214135007912\n",
      "\tx =  0.7520007814375578\n",
      "\tSpreading pressure =  1.0252268532496642\n",
      "Component  1\n",
      "\tp =  2.28\n",
      "\tp^0 =  9.193577355671918\n",
      "\tLoading:  0.26014214208600683\n",
      "\tx =  0.24799921856244223\n",
      "\tSpreading pressure =  1.025226853249664\n"
     ]
    },
    {
     "data": {
      "text/plain": [
       "array([0.78882141, 0.26014214])"
      ]
     },
     "execution_count": 91,
     "metadata": {},
     "output_type": "execute_result"
    }
   ],
   "source": [
    "df_CH4 = pd.read_csv(\"CH4_IRMOF1.csv\")\n",
    "df_CO2 = pd.read_csv(\"CO2_IRMOF1.csv\")\n",
    "\n",
    "CH4_isotherm = pyiast.InterpolatorIsotherm(df_CH4, loading_key=\"CH4 loading [mol/kg]\", pressure_key=\"Pressure [bar]\")\n",
    "CO2_isotherm = pyiast.InterpolatorIsotherm(df_CO2, loading_key=\"CO2 loading [mol/kg]\", pressure_key=\"Pressure [bar]\")\n",
    "y=[0.4,0.6]\n",
    "p=3.8\n",
    "pyiast.iast([y[0]*p, y[1]*p], [CO2_isotherm, CH4_isotherm], verboseflag=True)"
   ]
  },
  {
   "cell_type": "code",
   "execution_count": 96,
   "id": "05ef763d",
   "metadata": {},
   "outputs": [
    {
     "data": {
      "image/png": "[encoded data removed]",
      "text/plain": [
       "<Figure size 800x600 with 1 Axes>"
      ]
     },
     "metadata": {},
     "output_type": "display_data"
    }
   ],
   "source": [
    "binary_mixture(0.6, 0.4)"
   ]
  }
 ],
 "metadata": {
  "kernelspec": {
   "display_name": "Python 3",
   "language": "python",
   "name": "python3"
  },
  "language_info": {
   "name": "python",
   "version": "3.13.7"
  }
 },
 "nbformat": 4,
 "nbformat_minor": 5
}
