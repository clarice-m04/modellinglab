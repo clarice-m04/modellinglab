{
 "cells": [
  {
   "cell_type": "markdown",
   "id": "d13cd11e",
   "metadata": {},
   "source": [
    "# Assignment 1 \n",
    "**Group B** \\\n",
    "Students: Elodie-Angélique Lendi, Mridhula Jayasankar, Clarice Jasmine Mihalache\n",
    "\n"
   ]
  },
  {
   "cell_type": "code",
   "execution_count": 95,
   "id": "c4346f1c",
   "metadata": {},
   "outputs": [],
   "source": [
    "# Imports cell\n",
    "import pandas as pd\n",
    "import sympy as sp"
   ]
  },
  {
   "cell_type": "markdown",
   "id": "0f7428ff",
   "metadata": {},
   "source": [
    "## Problem A"
   ]
  },
  {
   "cell_type": "code",
   "execution_count": 96,
   "id": "0d06d42d",
   "metadata": {},
   "outputs": [
    {
     "name": "stdout",
     "output_type": "stream",
     "text": [
      "   AtomicNumber Symbol       Name  AtomicMass CPKHexColor  \\\n",
      "0             1      H   Hydrogen    1.008000      FFFFFF   \n",
      "1             2     He     Helium    4.002600      D9FFFF   \n",
      "2             3     Li    Lithium    7.000000      CC80FF   \n",
      "3             4     Be  Beryllium    9.012183      C2FF00   \n",
      "4             5      B      Boron   10.810000      FFB5B5   \n",
      "\n",
      "  ElectronConfiguration  Electronegativity  AtomicRadius  IonizationEnergy  \\\n",
      "0                   1s1               2.20         120.0            13.598   \n",
      "1                   1s2                NaN         140.0            24.587   \n",
      "2               [He]2s1               0.98         182.0             5.392   \n",
      "3               [He]2s2               1.57         153.0             9.323   \n",
      "4           [He]2s2 2p1               2.04         192.0             8.298   \n",
      "\n",
      "   ElectronAffinity OxidationStates StandardState  MeltingPoint  BoilingPoint  \\\n",
      "0             0.754          +1, -1           Gas         13.81         20.28   \n",
      "1               NaN               0           Gas          0.95          4.22   \n",
      "2             0.618              +1         Solid        453.65       1615.00   \n",
      "3               NaN              +2         Solid       1560.00       2744.00   \n",
      "4             0.277              +3         Solid       2348.00       4273.00   \n",
      "\n",
      "    Density            GroupBlock YearDiscovered  \n",
      "0  0.000090              Nonmetal           1766  \n",
      "1  0.000179             Noble gas           1868  \n",
      "2  0.534000          Alkali metal           1817  \n",
      "3  1.850000  Alkaline earth metal           1798  \n",
      "4  2.370000             Metalloid           1808  \n"
     ]
    }
   ],
   "source": [
    "#1.Load csv file\n",
    "df = pd.read_csv(\"periodic_table.csv\")\n",
    "print(df.head()) #just for now to see if it can be loaded for everyone"
   ]
  },
  {
   "cell_type": "markdown",
   "id": "04a722a4",
   "metadata": {},
   "source": [
    "To load the csv file, it was added into the same folder as the notebook itself, then using pandas (imported as pd for facility) it was opened and its contents were loaded into a DataFrame called `df`. \\\n",
    "The `print(df.head())` displays the first five rows of the DataFrame. The purpose of this is to check if the document is read and displayed correctly."
   ]
  },
  {
   "cell_type": "code",
   "execution_count": 97,
   "id": "24294cff",
   "metadata": {},
   "outputs": [
    {
     "name": "stdout",
     "output_type": "stream",
     "text": [
      "{'H': 1.008, 'He': 4.0026, 'Li': 7.0, 'Be': 9.012183, 'B': 10.81, 'C': 12.011, 'N': 14.007, 'O': 15.999, 'F': 18.99840316, 'Ne': 20.18, 'Na': 22.9897693, 'Mg': 24.305, 'Al': 26.981538, 'Si': 28.085, 'P': 30.973762, 'S': 32.07, 'Cl': 35.45, 'Ar': 39.9, 'K': 39.0983, 'Ca': 40.08, 'Sc': 44.95591, 'Ti': 47.867, 'V': 50.9415, 'Cr': 51.996, 'Mn': 54.93804, 'Fe': 55.84, 'Co': 58.93319, 'Ni': 58.693, 'Cu': 63.55, 'Zn': 65.4, 'Ga': 69.723, 'Ge': 72.63, 'As': 74.92159, 'Se': 78.97, 'Br': 79.9, 'Kr': 83.8, 'Rb': 85.468, 'Sr': 87.62, 'Y': 88.90584, 'Zr': 91.22, 'Nb': 92.90637, 'Mo': 95.95, 'Tc': 96.90636, 'Ru': 101.1, 'Rh': 102.9055, 'Pd': 106.42, 'Ag': 107.868, 'Cd': 112.41, 'In': 114.818, 'Sn': 118.71, 'Sb': 121.76, 'Te': 127.6, 'I': 126.9045, 'Xe': 131.29, 'Cs': 132.905452, 'Ba': 137.33, 'La': 138.9055, 'Ce': 140.116, 'Pr': 140.90766, 'Nd': 144.24, 'Pm': 144.91276, 'Sm': 150.4, 'Eu': 151.964, 'Gd': 157.2, 'Tb': 158.92535, 'Dy': 162.5, 'Ho': 164.93033, 'Er': 167.26, 'Tm': 168.93422, 'Yb': 173.05, 'Lu': 174.9668, 'Hf': 178.49, 'Ta': 180.9479, 'W': 183.84, 'Re': 186.207, 'Os': 190.2, 'Ir': 192.22, 'Pt': 195.08, 'Au': 196.96657, 'Hg': 200.59, 'Tl': 204.383, 'Pb': 207.0, 'Bi': 208.9804, 'Po': 208.98243, 'At': 209.98715, 'Rn': 222.01758, 'Fr': 223.01973, 'Ra': 226.02541, 'Ac': 227.02775, 'Th': 232.038, 'Pa': 231.03588, 'U': 238.0289, 'Np': 237.048172, 'Pu': 244.0642, 'Am': 243.06138, 'Cm': 247.07035, 'Bk': 247.07031, 'Cf': 251.07959, 'Es': 252.083, 'Fm': 257.09511, 'Md': 258.09843, 'No': 259.101, 'Lr': 266.12, 'Rf': 267.122, 'Db': 268.126, 'Sg': 269.128, 'Bh': 270.133, 'Hs': 269.1336, 'Mt': 277.154, 'Ds': 282.166, 'Rg': 282.169, 'Cn': 286.179, 'Nh': 286.182, 'Fl': 290.192, 'Mc': 290.196, 'Lv': 293.205, 'Ts': 294.211, 'Og': 295.216}\n"
     ]
    }
   ],
   "source": [
    "#2. Python dictionary with keys as element symbol and values are atomic masses\n",
    "element_dict = pd.Series(df.AtomicMass.values,index=df.Symbol).to_dict()\n",
    "print(element_dict)"
   ]
  },
  {
   "cell_type": "markdown",
   "id": "cea90f26",
   "metadata": {},
   "source": [
    "As previously stated, the purpose of the code is to create a Python dictionary called `element_dict` where each key is a chemical element's symbol (like H for hydrogen, etc), taken from the `Symbol` column of the `df`(DataFrame). \\\n",
    "\\\n",
    "For each key (i.e. element), its value is the atomic mass of that element, taken from the `AtomicMass` column of `df`. \\\n",
    "\\\n",
    "Similarly to the *1.*, the `print(element_dict)` serves to see if the dictionary is correctly created. By doing this at each step, it would be easier to pinpoint an eventual problem, since for each step we have its output."
   ]
  },
  {
   "cell_type": "code",
   "execution_count": 99,
   "id": "d9f0104e",
   "metadata": {},
   "outputs": [
    {
     "name": "stdout",
     "output_type": "stream",
     "text": [
      "The molar mass of the compound C2H5O4 is 93.05799999999999 g/mol.\n"
     ]
    }
   ],
   "source": [
    "#3. Function that takes a chemical formula as input and returns its molar mass\n",
    "def calculate_molar_mass(formula):\n",
    "    import re\n",
    "    pattern = r'([A-Z][a-z]?)(\\d*)'\n",
    "    matches = re.findall(pattern, formula)\n",
    "    \n",
    "    molar_mass = 0.0\n",
    "    for (element, count) in matches:\n",
    "        if element in element_dict:\n",
    "            atomic_mass = element_dict[element]\n",
    "            count = int(count) if count else 1\n",
    "            molar_mass += atomic_mass * count\n",
    "        else:\n",
    "            raise ValueError(f\"Element {element} not found in periodic table.\")\n",
    "    \n",
    "    return molar_mass\n",
    "\n",
    "compound = \"C2H5O4\"\n",
    "print(f\"The molar mass of the compound {compound} is {calculate_molar_mass(compound)} g/mol.\")  #Example usage"
   ]
  },
  {
   "cell_type": "markdown",
   "id": "04fec8d2",
   "metadata": {},
   "source": [
    "The purpose here is to have a function that calculates the molar mass (molecular weight) of a chemical compound, given its formula as a string (e.g. $C_{2}H_{5}O_{4}$). \\\n",
    "It was written following the following points: \n",
    "* `import re`: module is imported to use regular expressions which are useful for pattern matching in strings \n",
    "* `pattern = r'([A-Z][a-z]?)(\\d*)'`: this regular expression pattern is made to match an element symbol `[A-Z][a-z]?`, this means an uppercase letter possibly followed by a lowercase letter (like $H, He, O, Na$ etc.), then the `\\d*`adds an optional number, which can be any digits, representing the count of atoms ; the parantheses create groups so that each match returns a tuple (element symbol, count) \n",
    "* `matches = re.findall(pattern, forumla)`: this finds all occurrences in the formula that match the pattern (for example here, for $C_{2}H_{5}O_{4}$ it would return `[('C', '2'), ('H', '5'), ('O', '4')]`) \n",
    "* `molar_mass = 0.0` initializes the total molar mass to zero \n",
    "* loop: iterates through each (element, count) pair found in the formula,checks if the element symbol exists in the previously created element_dict (which maps symbols to atomic masses), looks up the atomic mass for the element, converts the count string to an integer: if the count is empty (meaning only one atom), it defaults to 1, adds the total mass for this element (atomic mass × number of atoms) to the running total ; if the element symbol isn’t found in the dictionary, it raises an error\n",
    "* at the end it returns the total calculated molar mass\n"
   ]
  },
  {
   "cell_type": "code",
   "execution_count": 100,
   "id": "2014f7f8",
   "metadata": {},
   "outputs": [
    {
     "name": "stdout",
     "output_type": "stream",
     "text": [
      "The molar mass of the compound Ca3(PO4)2 is 215.209762 g/mol.\n"
     ]
    }
   ],
   "source": [
    "#4. Extend the molecular mass function to handle parentheses in formulas using recursion\n",
    "def calculate_molar_mass_with_parentheses(formula):\n",
    "    import re\n",
    "    def helper(formula):\n",
    "        pattern = r'(\\([^\\(\\)]+\\)(\\d*)|[A-Z][a-z]?(\\d*))'\n",
    "        matches = re.findall(pattern, formula)\n",
    "        \n",
    "        molar_mass = 0.0\n",
    "        for match in matches:\n",
    "            part = match[0]\n",
    "            if part.startswith('('):\n",
    "                inner_formula = part[1:part.index(')')]\n",
    "                count = int(part[part.index(')')+1:]) if part[part.index(')')+1:] else 1\n",
    "                molar_mass += helper(inner_formula) * count\n",
    "            else:\n",
    "                element = re.match(r'[A-Z][a-z]?', part).group()\n",
    "                count = int(re.search(r'\\d+', part).group()) if re.search(r'\\d+', part) else 1\n",
    "                if element in element_dict:\n",
    "                    atomic_mass = element_dict[element]\n",
    "                    molar_mass += atomic_mass * count\n",
    "                else:\n",
    "                    raise ValueError(f\"Element {element} not found in periodic table.\")\n",
    "        \n",
    "        return molar_mass\n",
    "    \n",
    "    return helper(formula)\n",
    "\n",
    "compound_parantheses = \"Ca3(PO4)2\"\n",
    "print(f\"The molar mass of the compound {compound_parantheses} is {calculate_molar_mass(compound_parantheses)} g/mol.\")  #Example usage\n"
   ]
  },
  {
   "cell_type": "markdown",
   "id": "04605a7d",
   "metadata": {},
   "source": [
    "This function calculates the molar mass of a chemical formula that may include parentheses (e.g $Ca_3(PO_4)_2$). Parentheses are used in chemistry to indicate groups of atoms that appear together multiple times. \\\n",
    "It was written following the following points: \n",
    "* `pattern = r'(\\([^\\(\\)]+\\)(\\d*)|[A-Z][a-z]?(\\d*))'`: this pattern works similarly as before, with only an added beginning part which can additonally match a group in parantheses, possibly followed by a number ; overall this pattern hence matches either a group in parantheses or a single element symbol, both being able to be followed by a number\n",
    "* iterating over matches: if it starts with '(', it’s a group: it extracts the inner formula (everything inside the parentheses), determines the count (the number after the parentheses, or 1 if missing), calls `helper` recursively on the inner formula and multiplies the result by the count ; if it's not a group, it's a single element: it extracts the element symbol, determines the count (the number after the symbol, or 1 if missing), looks up the atomic mass in `element_dict` and adds the correct amount to the total (like previously, If an element is not found in `element_dict`, it raises a `ValueError`)\n",
    "* after processing all parts, it returns the total molar mass"
   ]
  },
  {
   "cell_type": "code",
   "execution_count": 101,
   "id": "e93e1c4e",
   "metadata": {},
   "outputs": [
    {
     "name": "stdout",
     "output_type": "stream",
     "text": [
      "The molar mass of the compound CuSO4·5H2O is 177.631 g/mol.\n"
     ]
    }
   ],
   "source": [
    "#5. Extend the function to handle hydrates (e.g., \"CuSO4·5H2O\")\n",
    "def calculate_molar_mass_with_hydrates(formula):\n",
    "    if '·' in formula:\n",
    "        main_formula, hydrate_formula = formula.split('·')\n",
    "        return calculate_molar_mass_with_parentheses(main_formula) + calculate_molar_mass_with_parentheses(hydrate_formula)\n",
    "    else:\n",
    "        return calculate_molar_mass_with_parentheses(formula)\n",
    "\n",
    "compound_hydrate = \"CuSO4·5H2O\"\n",
    "print(f\"The molar mass of the compound {compound_hydrate} is {calculate_molar_mass(compound_hydrate)} g/mol.\")  #Example usage\n"
   ]
  },
  {
   "cell_type": "markdown",
   "id": "a3519e11",
   "metadata": {},
   "source": [
    "This function calculates the molar mass of chemical formulas that include hydrates (e.g $CuSO_4·5 H_2O$), where there specifically is a dot ($·$) that separates the main compound from the water of hydration (or other hydrate).\n",
    "It was written following the following points: \n",
    "* first, it checks for hydrate dot (·): if the dot is present, the formula is split into two parts: `main_formula`: the part before the dot (e.g., $CuSO_4$) and `hydrate_formula`: the part after the dot (e.g., $5H_2O$), If there is no dot in the formula, it simply calculates the molar mass of the whole formula as usual, with the function that can handle a molar mass with parantheses (`calculate_molar_mass_with_parentheses`)\n",
    "* in the case where the dot is present, the function then calculates the molar mass of each part using the previously defined `calculate_molar_mass_with_parentheses` function and adds the two results together to get the total molar mass, which it returns"
   ]
  },
  {
   "cell_type": "markdown",
   "id": "673b1d1e",
   "metadata": {},
   "source": [
    "## Problem 2"
   ]
  },
  {
   "cell_type": "markdown",
   "id": "6f55099e",
   "metadata": {},
   "source": [
    "In order to equilibrate the reaction a few basic steps were followed: \n",
    "1) First a dictionnary had to be created to assign each element its multiplicity\n",
    "2) A matrix has to be created with the informations about the reactans and the products\n",
    "3) Finally, the matrix must be solved in order to find the correct coefficients for the reaction"
   ]
  },
  {
   "cell_type": "code",
   "execution_count": null,
   "id": "abb05841",
   "metadata": {},
   "outputs": [],
   "source": [
    "def individual_element(mol):\n",
    "    elements = {}\n",
    "    i = 0\n",
    "    while i < len(mol):\n",
    "        if mol[i].isupper():\n",
    "            el = mol[i]\n",
    "            i += 1\n",
    "            if i < len(mol) and mol[i].islower():\n",
    "                el += mol[i]\n",
    "                i += 1\n",
    "            num = \"\"\n",
    "            while i < len(mol) and mol[i].isdigit():\n",
    "                num += mol[i]\n",
    "                i += 1\n",
    "            count = int(num) if num else 1\n",
    "            elements[el] = elements.get(el, 0) + count\n",
    "        else:\n",
    "            i += 1\n",
    "    return elements"
   ]
  },
  {
   "cell_type": "markdown",
   "id": "4eb75e40",
   "metadata": {},
   "source": [
    "In this function `individual_elements` we decompose all our reactants in order to know which atoms are present in the reaction and to know how many of each atom are present in each molecule. This is very useful in order to build our matrix later on. \n",
    "\n",
    "As all the elements start with a capital letter each element was searched in this way. In order to avoid the problem for (\"Na\") being divided into (\"N\", \"a\"), this function also looks at the letter following the capitalized letter to see if there is a lowercase character following it. Now our variable `el` contains the name of our element. In order to get an idea of the number of atom present, this function also looks at the numbers following the element using the function `.isdigits()`. If there is no number following the element, a default value of 1 is taken. \n",
    "\n",
    "Finally the elements and the element count is added to the dictionnary. "
   ]
  },
  {
   "cell_type": "code",
   "execution_count": 89,
   "id": "11895444",
   "metadata": {},
   "outputs": [],
   "source": [
    "def balance_reaction(reactants, products):\n",
    "    # Step 1\n",
    "    all_elements = set()\n",
    "    for mol in reactants + products:\n",
    "        all_elements.update(individual_element(mol).keys())\n",
    "    all_elements = sorted(all_elements)\n",
    "\n",
    "    # Step 2\n",
    "    species = reactants + products\n",
    "    matrix = []\n",
    "    for el in all_elements:\n",
    "        row = []\n",
    "        for i, mol in enumerate(species):\n",
    "            counts = individual_element(mol)\n",
    "            cnt = counts.get(el, 0)\n",
    "            row.append(cnt if i < len(reactants) else -cnt)\n",
    "        matrix.append(row)\n",
    "\n",
    "    A = sp.Matrix(matrix)\n",
    "\n",
    "    # Step 3\n",
    "    nullspace = A.nullspace()\n",
    "    if not nullspace:\n",
    "        raise ValueError(\"No solution found for this reaction.\")\n",
    "    \n",
    "    vec = nullspace[0] \n",
    "    denoms = [r.q for r in vec]\n",
    "    lcm_den = sp.lcm(denoms)\n",
    "    int_vec = [int(r * lcm_den) for r in vec]\n",
    "\n",
    "    from math import gcd\n",
    "    from functools import reduce\n",
    "    g = reduce(gcd, [abs(x) for x in int_vec if x != 0])\n",
    "    int_vec = [x // g for x in int_vec]\n",
    "\n",
    "    n_react = len(reactants)\n",
    "    react_vec = int_vec[:n_react]\n",
    "    prod_vec = int_vec[n_react:]\n",
    "\n",
    "    react = [f\"{c}{m}\" for c, m in zip(react_vec, reactants)]\n",
    "    prod = [f\"{c}{m}\" for c, m in zip(prod_vec, products)]\n",
    "\n",
    "    return react, prod, react_vec, prod_vec\n"
   ]
  },
  {
   "cell_type": "markdown",
   "id": "33ce63bf",
   "metadata": {},
   "source": [
    "The main part of the code can be divided in three subparts each with a particular aim. \n",
    "\n",
    "As said earlier a matrix will be used in order to equilibrate the reaction. Hence we need to know which elements are present in the reaction without taking duplicates. Using `set` in the first part allows to remove all duplicates. \n",
    "\n",
    "In the second part we look at both the reactants and the products. Taking the set that was created above, we can compare for each element the number of times it appears in each molecule. In this part, we take a positive value for the reactants and a negative value for the product, this is due to the atom conservation law. It is in this part that the matrix is created, where the rows represent the individual elements and the columns represent the molecules (the reactants first, and the products after). \n",
    "\n",
    "From Lavoisier's law of conservation of mass, it can be known that mass is neither created nor destroyed during a chemical reaction. In this last part, we find the solutions to equilibrate the reaction and find the correct stoechiometry using the stated law to construct an equation for our matrix. The function `.nullspace()` returns a list of basis vector, where each vector in the nullspace is a possible answer for the ratios of coefficients. In other words, the `.nullspace()` of a matrix A is the set of all vectors x such that A⋅x=0. The following equation is true as this is the set of possible coefficient combinations that conserve every element. \n",
    "However, this method could give us ratios instead of integer values for the stoechiometry. Hence we find the smallest common multiple and do a multiplication in order to get integer values. \n",
    "\n",
    "Once all these steps have been executed, the final answers shows up. "
   ]
  },
  {
   "cell_type": "code",
   "execution_count": 110,
   "id": "f7d4bac5",
   "metadata": {},
   "outputs": [],
   "source": [
    "react1, prod1, react_coeffs1, prod_coeffs1 = balance_reaction(reactants=[\"H2\", \"O2\"], products=[\"H2O\"])\n",
    "react2, prod2, react_coeffs2, prod_coeffs2 = balance_reaction(reactants=[\"N2\", \"H2\"], products=[\"NH3\"])\n",
    "react3, prod3, react_coeffs3, prod_coeffs3 = balance_reaction(reactants=[\"SO2\", \"O2\"], products=[\"SO3\"])"
   ]
  },
  {
   "cell_type": "code",
   "execution_count": 109,
   "id": "2d3558e4",
   "metadata": {},
   "outputs": [
    {
     "name": "stdout",
     "output_type": "stream",
     "text": [
      "Reactants:  ['2H2', '1O2'] Products ['2H2O']\n",
      "Reactants:  ['1N2', '3H2'] Products ['2NH3']\n",
      "Reactants:  ['2SO2', '1O2'] Products ['2SO3']\n"
     ]
    }
   ],
   "source": [
    "print(\"Reactants: \", react1, \"Products\", prod1)\n",
    "print(\"Reactants: \", react2, \"Products\", prod2)\n",
    "print(\"Reactants: \", react3, \"Products\", prod3)"
   ]
  },
  {
   "cell_type": "code",
   "execution_count": 103,
   "id": "bed2361d",
   "metadata": {},
   "outputs": [],
   "source": [
    "def total_mass(molecule_coeff_dict, element_dict):\n",
    "    \"\"\"\n",
    "    molecule_coeff_dict: dictionary {molecule: coefficient}\n",
    "    element_dict: dictionary {element: atomic_mass}\n",
    "    Returns total mass in grams\n",
    "    \"\"\"\n",
    "    mass = 0.0\n",
    "    for mol, coef in molecule_coeff_dict.items():\n",
    "        mass += coef * calculate_molar_mass(mol)\n",
    "    return mass"
   ]
  },
  {
   "cell_type": "markdown",
   "id": "2316b781",
   "metadata": {},
   "source": [
    "This takes into account the stoechiometry of the reaction to calculate the correct mass of the reactants and/or the products. It uses `element_dict` to find the corresponding molecular weight of an element and multiply it by the number of times the atom appears. "
   ]
  },
  {
   "cell_type": "code",
   "execution_count": 92,
   "id": "8a5d8a84",
   "metadata": {},
   "outputs": [],
   "source": [
    "def verify_mass_conservation(reactants, products, react_coeffs, prod_coeffs, element_dict):\n",
    "    react_dict = {mol: coef for mol, coef in zip(reactants, react_coeffs)}\n",
    "    prod_dict = {mol: coef for mol, coef in zip(products, prod_coeffs)}\n",
    "\n",
    "    mass_react = total_mass(react_dict, element_dict)\n",
    "    mass_prod = total_mass(prod_dict, element_dict)\n",
    "\n",
    "    print(f\"Total mass of reactants: {mass_react:.3f} g/mol\")\n",
    "    print(f\"Total mass of products: {mass_prod:.3f} g/mol\")\n",
    "\n",
    "    if abs(mass_react - mass_prod) < 1e-6:\n",
    "        print(\"The reaction is balanced: total mass is conserved.\")\n",
    "        return True\n",
    "    else:\n",
    "        print(\"The reaction is NOT balanced: total mass differs.\")\n",
    "        return False"
   ]
  },
  {
   "cell_type": "markdown",
   "id": "3863c415",
   "metadata": {},
   "source": [
    "Finally, the `verify_mass_conservation` verifies that the sum of the mass of all the reactant is equal to the sum of mass of all the products. \n",
    "Using the zip function here allowed us to pair each molecule with its correct coefficient. With the help of the total_mass function we calculate the molecular weight of the reactants and the products and finally compare both the results to see if the reaction was correctly equilibrated. "
   ]
  },
  {
   "cell_type": "code",
   "execution_count": 112,
   "id": "d9514478",
   "metadata": {},
   "outputs": [
    {
     "name": "stdout",
     "output_type": "stream",
     "text": [
      "Total mass of reactants: 36.030 g/mol\n",
      "Total mass of products: 36.030 g/mol\n",
      "The reaction is balanced: total mass is conserved.\n",
      "Total mass of reactants: 34.062 g/mol\n",
      "Total mass of products: 34.062 g/mol\n",
      "The reaction is balanced: total mass is conserved.\n",
      "Total mass of reactants: 160.134 g/mol\n",
      "Total mass of products: 160.134 g/mol\n",
      "The reaction is balanced: total mass is conserved.\n"
     ]
    },
    {
     "data": {
      "text/plain": [
       "True"
      ]
     },
     "execution_count": 112,
     "metadata": {},
     "output_type": "execute_result"
    }
   ],
   "source": [
    "verify_mass_conservation([\"H2\", \"O2\"],[\"H2O\"], react_coeffs1, prod_coeffs1, element_dict)\n",
    "verify_mass_conservation([\"N2\", \"H2\"],[\"NH3\"], react_coeffs2, prod_coeffs2, element_dict)\n",
    "verify_mass_conservation([\"SO2\", \"O2\"],[\"SO3\"], react_coeffs3, prod_coeffs3, element_dict)\n"
   ]
  },
  {
   "cell_type": "markdown",
   "id": "461cef71",
   "metadata": {},
   "source": [
    "## Problem 3"
   ]
  }
 ],
 "metadata": {
  "kernelspec": {
   "display_name": "rxnrate2",
   "language": "python",
   "name": "python3"
  },
  "language_info": {
   "codemirror_mode": {
    "name": "ipython",
    "version": 3
   },
   "file_extension": ".py",
   "mimetype": "text/x-python",
   "name": "python",
   "nbconvert_exporter": "python",
   "pygments_lexer": "ipython3",
   "version": "3.10.16"
  }
 },
 "nbformat": 4,
 "nbformat_minor": 5
}
