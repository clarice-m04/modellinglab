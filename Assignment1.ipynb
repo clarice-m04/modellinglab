{
 "cells": [
  {
   "cell_type": "markdown",
   "id": "d13cd11e",
   "metadata": {},
   "source": [
    "# Assignment 1 \n",
    "**Group B** \\\n",
    "Students: Elodie-Angélique Lendi, Mridhula Jayasankar, Clarice Jasmine Mihalache\n",
    "\n"
   ]
  },
  {
   "cell_type": "code",
   "execution_count": 2,
   "id": "c4346f1c",
   "metadata": {},
   "outputs": [],
   "source": [
    "# Imports cell\n",
    "import pandas as pd"
   ]
  },
  {
   "cell_type": "markdown",
   "id": "0f7428ff",
   "metadata": {},
   "source": [
    "## Problem A"
   ]
  },
  {
   "cell_type": "code",
   "execution_count": 3,
   "id": "0d06d42d",
   "metadata": {},
   "outputs": [
    {
     "name": "stdout",
     "output_type": "stream",
     "text": [
      "   AtomicNumber Symbol       Name  AtomicMass CPKHexColor  \\\n",
      "0             1      H   Hydrogen    1.008000      FFFFFF   \n",
      "1             2     He     Helium    4.002600      D9FFFF   \n",
      "2             3     Li    Lithium    7.000000      CC80FF   \n",
      "3             4     Be  Beryllium    9.012183      C2FF00   \n",
      "4             5      B      Boron   10.810000      FFB5B5   \n",
      "\n",
      "  ElectronConfiguration  Electronegativity  AtomicRadius  IonizationEnergy  \\\n",
      "0                   1s1               2.20         120.0            13.598   \n",
      "1                   1s2                NaN         140.0            24.587   \n",
      "2               [He]2s1               0.98         182.0             5.392   \n",
      "3               [He]2s2               1.57         153.0             9.323   \n",
      "4           [He]2s2 2p1               2.04         192.0             8.298   \n",
      "\n",
      "   ElectronAffinity OxidationStates StandardState  MeltingPoint  BoilingPoint  \\\n",
      "0             0.754          +1, -1           Gas         13.81         20.28   \n",
      "1               NaN               0           Gas          0.95          4.22   \n",
      "2             0.618              +1         Solid        453.65       1615.00   \n",
      "3               NaN              +2         Solid       1560.00       2744.00   \n",
      "4             0.277              +3         Solid       2348.00       4273.00   \n",
      "\n",
      "    Density            GroupBlock YearDiscovered  \n",
      "0  0.000090              Nonmetal           1766  \n",
      "1  0.000179             Noble gas           1868  \n",
      "2  0.534000          Alkali metal           1817  \n",
      "3  1.850000  Alkaline earth metal           1798  \n",
      "4  2.370000             Metalloid           1808  \n"
     ]
    }
   ],
   "source": [
    "#1.Load csv file\n",
    "df = pd.read_csv(\"periodic_table.csv\")\n",
    "print(df.head()) #just for now to see if it can be loaded for everyone"
   ]
  },
  {
   "cell_type": "markdown",
   "id": "04a722a4",
   "metadata": {},
   "source": [
    "To load the csv file, it was added into the same folder as the notebook itself, then using pandas (imported as pd for facility) it was opened and its contents were loaded into a DataFrame called `df`. \\\n",
    "The `print(df.head())` displays the first five rows of the DataFrame. The purpose of this is to check if the document is read and displayed correctly."
   ]
  },
  {
   "cell_type": "code",
   "execution_count": 4,
   "id": "24294cff",
   "metadata": {},
   "outputs": [
    {
     "name": "stdout",
     "output_type": "stream",
     "text": [
      "{'H': 1.008, 'He': 4.0026, 'Li': 7.0, 'Be': 9.012183, 'B': 10.81, 'C': 12.011, 'N': 14.007, 'O': 15.999, 'F': 18.99840316, 'Ne': 20.18, 'Na': 22.9897693, 'Mg': 24.305, 'Al': 26.981538, 'Si': 28.085, 'P': 30.973762, 'S': 32.07, 'Cl': 35.45, 'Ar': 39.9, 'K': 39.0983, 'Ca': 40.08, 'Sc': 44.95591, 'Ti': 47.867, 'V': 50.9415, 'Cr': 51.996, 'Mn': 54.93804, 'Fe': 55.84, 'Co': 58.93319, 'Ni': 58.693, 'Cu': 63.55, 'Zn': 65.4, 'Ga': 69.723, 'Ge': 72.63, 'As': 74.92159, 'Se': 78.97, 'Br': 79.9, 'Kr': 83.8, 'Rb': 85.468, 'Sr': 87.62, 'Y': 88.90584, 'Zr': 91.22, 'Nb': 92.90637, 'Mo': 95.95, 'Tc': 96.90636, 'Ru': 101.1, 'Rh': 102.9055, 'Pd': 106.42, 'Ag': 107.868, 'Cd': 112.41, 'In': 114.818, 'Sn': 118.71, 'Sb': 121.76, 'Te': 127.6, 'I': 126.9045, 'Xe': 131.29, 'Cs': 132.905452, 'Ba': 137.33, 'La': 138.9055, 'Ce': 140.116, 'Pr': 140.90766, 'Nd': 144.24, 'Pm': 144.91276, 'Sm': 150.4, 'Eu': 151.964, 'Gd': 157.2, 'Tb': 158.92535, 'Dy': 162.5, 'Ho': 164.93033, 'Er': 167.26, 'Tm': 168.93422, 'Yb': 173.05, 'Lu': 174.9668, 'Hf': 178.49, 'Ta': 180.9479, 'W': 183.84, 'Re': 186.207, 'Os': 190.2, 'Ir': 192.22, 'Pt': 195.08, 'Au': 196.96657, 'Hg': 200.59, 'Tl': 204.383, 'Pb': 207.0, 'Bi': 208.9804, 'Po': 208.98243, 'At': 209.98715, 'Rn': 222.01758, 'Fr': 223.01973, 'Ra': 226.02541, 'Ac': 227.02775, 'Th': 232.038, 'Pa': 231.03588, 'U': 238.0289, 'Np': 237.048172, 'Pu': 244.0642, 'Am': 243.06138, 'Cm': 247.07035, 'Bk': 247.07031, 'Cf': 251.07959, 'Es': 252.083, 'Fm': 257.09511, 'Md': 258.09843, 'No': 259.101, 'Lr': 266.12, 'Rf': 267.122, 'Db': 268.126, 'Sg': 269.128, 'Bh': 270.133, 'Hs': 269.1336, 'Mt': 277.154, 'Ds': 282.166, 'Rg': 282.169, 'Cn': 286.179, 'Nh': 286.182, 'Fl': 290.192, 'Mc': 290.196, 'Lv': 293.205, 'Ts': 294.211, 'Og': 295.216}\n"
     ]
    }
   ],
   "source": [
    "#2. Python dictionary with keys as element symbol and values are atomic masses\n",
    "element_dict = pd.Series(df.AtomicMass.values,index=df.Symbol).to_dict()\n",
    "print(element_dict)"
   ]
  },
  {
   "cell_type": "markdown",
   "id": "cea90f26",
   "metadata": {},
   "source": [
    "As previously stated, the purpose of the code is to create a Python dictionary called `element_dict` where each key is a chemical element's symbol (like H for hydrogen, etc), taken from the `Symbol` column of the `df`(DataFrame). \\\n",
    "\\\n",
    "For each key (i.e. element), its value is the atomic mass of that element, taken from the `AtomicMass` column of `df`. \\\n",
    "\\\n",
    "Similarly to the *1.*, the `print(element_dict)` serves to see if the dictionary is correctly created. By doing this at each step, it would be easier to pinpoint an eventual problem, since for each step we have its output."
   ]
  },
  {
   "cell_type": "code",
   "execution_count": 8,
   "id": "d9f0104e",
   "metadata": {},
   "outputs": [
    {
     "name": "stdout",
     "output_type": "stream",
     "text": [
      "93.05799999999999\n"
     ]
    }
   ],
   "source": [
    "#3. Function that takes a chemical formula as input and returns its molar mass\n",
    "def calculate_molar_mass(formula):\n",
    "    import re\n",
    "    pattern = r'([A-Z][a-z]?)(\\d*)'\n",
    "    matches = re.findall(pattern, formula)\n",
    "    \n",
    "    molar_mass = 0.0\n",
    "    for (element, count) in matches:\n",
    "        if element in element_dict:\n",
    "            atomic_mass = element_dict[element]\n",
    "            count = int(count) if count else 1\n",
    "            molar_mass += atomic_mass * count\n",
    "        else:\n",
    "            raise ValueError(f\"Element {element} not found in periodic table.\")\n",
    "    \n",
    "    return molar_mass\n",
    "\n",
    "print(calculate_molar_mass(\"C2H5O4\"))  # Example usage"
   ]
  },
  {
   "cell_type": "markdown",
   "id": "04fec8d2",
   "metadata": {},
   "source": [
    "The purpose here is to have a function that calculates the molar mass (molecular weight) of a chemical compound, given its formula as a string (e.g. $C_{2}H_{5}O_{4}$). \\\n",
    "It was written following the following points: \n",
    "* `import re`: module is imported to use regular expressions which are useful for pattern matching in strings \n",
    "* `pattern = r'([A-Z][a-z]?)(\\d*)'`: this regular expression pattern is made to match an element symbol `[A-Z][a-z]?`, this means an uppercase letter possibly followed by a lowercase letter (like $H, He, O, Na$ etc.), then the `\\d*`adds an optional number, which can be any digits, representing the count of atoms ; the parantheses create groups so that each match returns a tuple (element symbol, count) \n",
    "* `matches = re.findall(pattern, forumla)`: this finds all occurrences in the formula that match the pattern (for example here, for $C_{2}H_{5}O_{4}$ it would return `[('C', '2'), ('H', '5'), ('O', '4')]`) \n",
    "* `molar_mass = 0.0` initializes the total molar mass to zero \n",
    "* loop: iterates through each (element, count) pair found in the formula,checks if the element symbol exists in the previously created element_dict (which maps symbols to atomic masses), looks up the atomic mass for the element, converts the count string to an integer: if the count is empty (meaning only one atom), it defaults to 1, adds the total mass for this element (atomic mass × number of atoms) to the running total ; if the element symbol isn’t found in the dictionary, it raises an error\n",
    "* at the end it returns the total calculated molar mass\n"
   ]
  },
  {
   "cell_type": "code",
   "execution_count": 9,
   "id": "2014f7f8",
   "metadata": {},
   "outputs": [
    {
     "name": "stdout",
     "output_type": "stream",
     "text": [
      "310.179524\n"
     ]
    }
   ],
   "source": [
    "#4. Extend the molecular mass function to handle parentheses in formulas using recursion\n",
    "def calculate_molar_mass_with_parentheses(formula):\n",
    "    import re\n",
    "    def helper(formula):\n",
    "        pattern = r'(\\([^\\(\\)]+\\)(\\d*)|[A-Z][a-z]?(\\d*))'\n",
    "        matches = re.findall(pattern, formula)\n",
    "        \n",
    "        molar_mass = 0.0\n",
    "        for match in matches:\n",
    "            part = match[0]\n",
    "            if part.startswith('('):\n",
    "                inner_formula = part[1:part.index(')')]\n",
    "                count = int(part[part.index(')')+1:]) if part[part.index(')')+1:] else 1\n",
    "                molar_mass += helper(inner_formula) * count\n",
    "            else:\n",
    "                element = re.match(r'[A-Z][a-z]?', part).group()\n",
    "                count = int(re.search(r'\\d+', part).group()) if re.search(r'\\d+', part) else 1\n",
    "                if element in element_dict:\n",
    "                    atomic_mass = element_dict[element]\n",
    "                    molar_mass += atomic_mass * count\n",
    "                else:\n",
    "                    raise ValueError(f\"Element {element} not found in periodic table.\")\n",
    "        \n",
    "        return molar_mass\n",
    "    \n",
    "    return helper(formula)\n",
    "\n",
    "print(calculate_molar_mass_with_parentheses(\"Ca3(PO4)2\"))  # Example usage"
   ]
  },
  {
   "cell_type": "code",
   "execution_count": 10,
   "id": "e93e1c4e",
   "metadata": {},
   "outputs": [
    {
     "name": "stdout",
     "output_type": "stream",
     "text": [
      "177.63100000000003\n"
     ]
    }
   ],
   "source": [
    "#5. Extend the function to handle hydrates (e.g., \"CuSO4·5H2O\")\n",
    "def calculate_molar_mass_with_hydrates(formula):\n",
    "    if '·' in formula:\n",
    "        main_formula, hydrate_formula = formula.split('·')\n",
    "        return calculate_molar_mass_with_parentheses(main_formula) + calculate_molar_mass_with_parentheses(hydrate_formula)\n",
    "    else:\n",
    "        return calculate_molar_mass_with_parentheses(formula)\n",
    "    \n",
    "print(calculate_molar_mass_with_hydrates(\"CuSO4·5H2O\"))  # Example usage"
   ]
  },
  {
   "cell_type": "markdown",
   "id": "673b1d1e",
   "metadata": {},
   "source": [
    "## Problem 2"
   ]
  },
  {
   "cell_type": "code",
   "execution_count": null,
   "id": "8f8417c3",
   "metadata": {},
   "outputs": [],
   "source": []
  },
  {
   "cell_type": "markdown",
   "id": "461cef71",
   "metadata": {},
   "source": [
    "## Problem 3"
   ]
  }
 ],
 "metadata": {
  "kernelspec": {
   "display_name": "rxnrate2",
   "language": "python",
   "name": "python3"
  },
  "language_info": {
   "codemirror_mode": {
    "name": "ipython",
    "version": 3
   },
   "file_extension": ".py",
   "mimetype": "text/x-python",
   "name": "python",
   "nbconvert_exporter": "python",
   "pygments_lexer": "ipython3",
   "version": "3.10.16"
  }
 },
 "nbformat": 4,
 "nbformat_minor": 5
}
