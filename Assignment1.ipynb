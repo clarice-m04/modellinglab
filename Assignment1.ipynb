{
 "cells": [
  {
   "cell_type": "markdown",
   "id": "d13cd11e",
   "metadata": {},
   "source": [
    "# Assignment 1 \n",
    "**Group B** \\\n",
    "Students: Elodie-Angélique Lendi, Mridhula Jayasankar, Clarice Jasmine Mihalache\n",
    "\n"
   ]
  },
  {
   "cell_type": "code",
   "execution_count": 47,
   "id": "c4346f1c",
   "metadata": {},
   "outputs": [],
   "source": [
    "# Imports cell\n",
    "import pandas as pd\n",
    "import sympy as sp"
   ]
  },
  {
   "cell_type": "markdown",
   "id": "0f7428ff",
   "metadata": {},
   "source": [
    "## Problem 1"
   ]
  },
  {
   "cell_type": "code",
   "execution_count": null,
   "id": "0d06d42d",
   "metadata": {},
   "outputs": [
    {
     "name": "stdout",
     "output_type": "stream",
     "text": [
      "   AtomicNumber Symbol       Name  AtomicMass CPKHexColor  \\\n",
      "0             1      H   Hydrogen    1.008000      FFFFFF   \n",
      "1             2     He     Helium    4.002600      D9FFFF   \n",
      "2             3     Li    Lithium    7.000000      CC80FF   \n",
      "3             4     Be  Beryllium    9.012183      C2FF00   \n",
      "4             5      B      Boron   10.810000      FFB5B5   \n",
      "\n",
      "  ElectronConfiguration  Electronegativity  AtomicRadius  IonizationEnergy  \\\n",
      "0                   1s1               2.20         120.0            13.598   \n",
      "1                   1s2                NaN         140.0            24.587   \n",
      "2               [He]2s1               0.98         182.0             5.392   \n",
      "3               [He]2s2               1.57         153.0             9.323   \n",
      "4           [He]2s2 2p1               2.04         192.0             8.298   \n",
      "\n",
      "   ElectronAffinity OxidationStates StandardState  MeltingPoint  BoilingPoint  \\\n",
      "0             0.754          +1, -1           Gas         13.81         20.28   \n",
      "1               NaN               0           Gas          0.95          4.22   \n",
      "2             0.618              +1         Solid        453.65       1615.00   \n",
      "3               NaN              +2         Solid       1560.00       2744.00   \n",
      "4             0.277              +3         Solid       2348.00       4273.00   \n",
      "\n",
      "    Density            GroupBlock YearDiscovered  \n",
      "0  0.000090              Nonmetal           1766  \n",
      "1  0.000179             Noble gas           1868  \n",
      "2  0.534000          Alkali metal           1817  \n",
      "3  1.850000  Alkaline earth metal           1798  \n",
      "4  2.370000             Metalloid           1808  \n"
     ]
    }
   ],
   "source": [
    "df = pd.read_csv(\"periodic_table.csv\")\n",
    "print(df.head()) #just for now to see if it can be loaded for everyone"
   ]
  },
  {
   "cell_type": "markdown",
   "id": "673b1d1e",
   "metadata": {},
   "source": [
    "## Problem 2"
   ]
  },
  {
   "cell_type": "code",
   "execution_count": null,
   "id": "abb05841",
   "metadata": {},
   "outputs": [],
   "source": [
    "def individual_element(mol):\n",
    "    elements = {}\n",
    "    i = 0\n",
    "    while i < len(mol):\n",
    "        if mol[i].isupper():\n",
    "            el = mol[i]\n",
    "            i += 1\n",
    "            if i < len(mol) and mol[i].islower():\n",
    "                el += mol[i]\n",
    "                i += 1\n",
    "            num = \"\"\n",
    "            while i < len(mol) and mol[i].isdigit():\n",
    "                num += mol[i]\n",
    "                i += 1\n",
    "            count = int(num) if num else 1\n",
    "            elements[el] = elements.get(el, 0) + count\n",
    "        else:\n",
    "            i += 1\n",
    "    return elements"
   ]
  },
  {
   "cell_type": "markdown",
   "id": "4eb75e40",
   "metadata": {},
   "source": [
    "In this function \"individual_elements\" we decompose all our reactants in order to know which atoms are present in our reaction and to know how many of each atom are present in each molecule. This is very usuful in order to build our matrix later on. \n",
    "\n",
    "As all the elements start with a capital letter each element was searched in this way. In order to avoid the problem for (\"Na\") being divided into (\"N\", \"a\"), this function also looks at the letter following the capitalized letter to see if there is a lowercase character following it. Now our variable $el$ contains the name of our element. In order to get an idea of the number of atom present, this function also looks at the numbers following the element using the function \".isdigits\". If there is no number following the element, a default value of 1 is taken. \n",
    "\n",
    "Finally the elements an the element count is added into the dictionnary. "
   ]
  },
  {
   "cell_type": "code",
   "execution_count": 72,
   "id": "11895444",
   "metadata": {},
   "outputs": [],
   "source": [
    "def balance_reaction(reactants, products):\n",
    "    # Step 1\n",
    "    all_elements = set()\n",
    "    for mol in reactants + products:\n",
    "        all_elements.update(individual_element(mol).keys())\n",
    "    all_elements = sorted(all_elements)\n",
    "\n",
    "    # Step 2\n",
    "    species = reactants + products\n",
    "    matrix = []\n",
    "    for el in all_elements:\n",
    "        row = []\n",
    "        for i, mol in enumerate(species):\n",
    "            counts = individual_element(mol)\n",
    "            cnt = counts.get(el, 0)\n",
    "            row.append(cnt if i < len(reactants) else -cnt)\n",
    "        matrix.append(row)\n",
    "\n",
    "    A = sp.Matrix(matrix)\n",
    "\n",
    "    # Step 3\n",
    "    nullspace = A.nullspace()\n",
    "    if not nullspace:\n",
    "        raise ValueError(\"No solution found for this reaction.\")\n",
    "    \n",
    "    vec = nullspace[0] \n",
    "    denoms = [r.q for r in vec]\n",
    "    lcm_den = sp.lcm(denoms)\n",
    "    int_vec = [int(r * lcm_den) for r in vec]\n",
    "\n",
    "    from math import gcd\n",
    "    from functools import reduce\n",
    "    g = reduce(gcd, [abs(x) for x in int_vec if x != 0])\n",
    "    int_vec = [x // g for x in int_vec]\n",
    "\n",
    "    return int_vec\n"
   ]
  },
  {
   "cell_type": "markdown",
   "id": "33ce63bf",
   "metadata": {},
   "source": [
    "The main part of the code can be divided in three subparts each with a particular aim. \n",
    "\n",
    "As said earlier a matrix will be used in order to equilibrate the reaction. Hence we need to know whcih elements are present in the reaction without taking duplicates. Using Sets in the first part allows to do that. \n",
    "\n",
    "In the second part we look at both the reactants and the products. Taking the set that was created above, we can compare for each element the number of times it appears in each molecule. In this part, we take a positive value for the reactants and a negative value for the product, this is due to the atom conservation law . It is in this part that the matrix is created, where the row represent the individual elements and the columns represent the molecules (the reactants first, and the products after). \n",
    "\n",
    "In this final part, we find the solutions to equilibrate the reaction and find the correct stoechiometry. The function \".nullspace()\" returns a list of basis vector, where each vector in the nullspace is a possible answer for the ratios of coefficients. However, this method could give us ratios instead of integer values for the stoechiometry. Hence we find the smallest common multiple. \n",
    "\n",
    "Once all these steps have been executed, the final answers shows up. "
   ]
  },
  {
   "cell_type": "code",
   "execution_count": 74,
   "id": "f7d4bac5",
   "metadata": {},
   "outputs": [
    {
     "name": "stdout",
     "output_type": "stream",
     "text": [
      "[2, 1, 2]\n",
      "[1, 3, 2]\n",
      "[2, 1, 2]\n"
     ]
    }
   ],
   "source": [
    "print(balance_reaction(reactants=[\"H2\", \"O2\"], products=[\"H2O\"]))\n",
    "print(balance_reaction(reactants=[\"N2\", \"H2\"], products=[\"NH3\"]))\n",
    "print(balance_reaction(reactants=[\"SO2\", \"O2\"], products=[\"SO3\"])) "
   ]
  },
  {
   "cell_type": "markdown",
   "id": "461cef71",
   "metadata": {},
   "source": [
    "## Problem 3"
   ]
  }
 ],
 "metadata": {
  "kernelspec": {
   "display_name": "rxnrate2",
   "language": "python",
   "name": "python3"
  },
  "language_info": {
   "codemirror_mode": {
    "name": "ipython",
    "version": 3
   },
   "file_extension": ".py",
   "mimetype": "text/x-python",
   "name": "python",
   "nbconvert_exporter": "python",
   "pygments_lexer": "ipython3",
   "version": "3.10.16"
  }
 },
 "nbformat": 4,
 "nbformat_minor": 5
}
