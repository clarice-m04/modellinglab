{
 "cells": [
  {
   "cell_type": "code",
   "execution_count": 1,
   "metadata": {},
   "outputs": [
    {
     "name": "stdout",
     "output_type": "stream",
     "text": [
      "hello\n"
     ]
    }
   ],
   "source": [
    "print(\"hello\")"
   ]
  },
  {
   "cell_type": "code",
   "execution_count": 3,
   "metadata": {},
   "outputs": [
    {
     "name": "stdout",
     "output_type": "stream",
     "text": [
      "Scipy version: 1.15.2\n"
     ]
    }
   ],
   "source": [
    "import scipy\n",
    "print(\"Scipy version:\", scipy.__version__)\n"
   ]
  },
  {
   "cell_type": "code",
   "execution_count": 17,
   "metadata": {},
   "outputs": [],
   "source": [
    "import pyiast\n",
    "import pandas as pd\n",
    "import matplotlib.pyplot as plt\n",
    "import numpy as np\n",
    "\n",
    "def binary_mixture(y_N2: float, y_CO2: float):\n",
    "\n",
    "    df_N2 = pd.read_csv(\"N2_UTSA80.csv\")\n",
    "    df_CO2 = pd.read_csv(\"CO2_UTSA80.csv\")\n",
    "\n",
    "    CO2_isotherm = pyiast.InterpolatorIsotherm(df_CO2, loading_key=\"CO2 loading [mol/kg]\", pressure_key=\"Pressure [bar]\")\n",
    "    N2_isotherm = pyiast.InterpolatorIsotherm(df_N2, loading_key=\"N2 loading [mol/kg]\", pressure_key=\"Pressure [bar]\")\n",
    "    \n",
    "    # Pressure range for this simulation\n",
    "    pressure = [0.2, 1.01325]\n",
    "    \n",
    "    # Introduction of a binary mixture\n",
    "    y = [y_N2, y_CO2]\n",
    "    \n",
    "    # Store results\n",
    "    CO2_ads = []\n",
    "    N2_ads = []\n",
    "    total_loading = []\n",
    "\n",
    "    for p in pressure:\n",
    "        try: \n",
    "            # Partial pressure\n",
    "            p_CO2 = p*y_CO2\n",
    "            p_N2 = p*y_N2\n",
    "            results = pyiast.iast([p_CO2, p_N2], [CO2_isotherm, N2_isotherm])\n",
    "            CO2_ads.append(results[0])\n",
    "            N2_ads.append(results[1])\n",
    "            total_loading.append(sum(results))\n",
    "            print (f\"Pressure {p} bar: N2 = {results[1]: .4f}, CO2 = {results[0]: .4f}, Total = {sum(results):.4f}\")\n",
    "\n",
    "        except Exception as e: \n",
    "            print(f\"Error at pressure {p} bar : {e}\")\n",
    "            N2_ads.append(np.nan)\n",
    "            CO2_ads.append(np.nan)\n",
    "            total_loading.append(np.nan)\n",
    "\n",
    "    \n",
    "    #Pressure = [0.2, 0.8, 1.4, 2.0, 2.6, 3.2, 3.8, 4.4]\n",
    "    #CH4_IRMOF_data_not_mixed = [0.02266292256712, 0.08756719507668, 0.1564975455208, 0.22497333877876, 0.28796197743236, 0.357963784101, 0.42640710898852, 0.4826423265906]\n",
    "    #CO2_IRMOF_data_not_mixed = [0.10091169532752, 0.39653620818372, 0.71810294902148, 1.0437607045347, 1.3820811245195, 1.7378045910601, 2.164016889826, 2.4447384206502]\n",
    "    \n",
    "    # Calculate total uptake\n",
    "    #total_adsorption = [co2 + ch4 for co2, ch4 in zip(CO2_ads, CH4_ads)]\n",
    "\n",
    "    # Plotting graph\n",
    "\n",
    "    #plt.figure(figsize=(8,6))\n",
    "    #plt.plot(pressure, CO2_ads, marker= \".\", linewidth = 1, label = \"CO2 uptake in a mixture\", color = \"darkblue\")\n",
    "    #plt.plot(pressure, N2_ads, marker = \"x\", markersize = 5, linewidth = 1, label = \" CH4 uptake in a mixture\", color = \"darkgreen\")\n",
    "    #plt.plot(Pressure, CO2_IRMOF_data_not_mixed, linestyle = \"--\", label = \"CO2 uptake if no mixture\", color = \"darkblue\")\n",
    "    #plt.plot(Pressure, CH4_IRMOF_data_not_mixed, linestyle = \"--\", label = \"CH4 uptake if no mixture\", color = \"darkgreen\")\n",
    "    #plt.plot(pressure, total_adsorption, marker=\" \", linestyle=\"-.\", linewidth=1, label=\"Total uptake in mixture\", color=\"purple\")\n",
    "    #plt.xlabel(\"Pressure [bar]\")\n",
    "    #plt.ylabel(\"Uptake [mol/kg]\")\n",
    "    #plt.title(f\"Binary mixture adsorption isoterms {y_CH4}/{y_CO2} (CH4/CO2)\")\n",
    "    #plt.legend()\n",
    "    #plt.tight_layout()\n",
    "    #plt.show()"
   ]
  },
  {
   "cell_type": "code",
   "execution_count": 18,
   "metadata": {},
   "outputs": [
    {
     "name": "stdout",
     "output_type": "stream",
     "text": [
      "Pressure 0.2 bar: N2 =  0.0571, CO2 =  0.0502, Total = 0.1073\n",
      "Pressure 1.01325 bar: N2 =  0.2793, CO2 =  0.2485, Total = 0.5278\n"
     ]
    }
   ],
   "source": [
    "binary_mixture(0.85, 0.15)"
   ]
  },
  {
   "cell_type": "code",
   "execution_count": 27,
   "metadata": {},
   "outputs": [
    {
     "name": "stdout",
     "output_type": "stream",
     "text": [
      "Pressure (bar) | CO2 loading (mol/kg) | N2 loading (mol/kg) | Selectivity (CO2/CH4)\n",
      "----------------------------------------------------------------------\n",
      "          0.2 |             0.0502 |             0.0571 |                   4.98\n",
      "      1.01325 |             0.2485 |             0.2793 |                   5.04\n"
     ]
    }
   ],
   "source": [
    "import pyiast\n",
    "import pandas as pd\n",
    "\n",
    "# Load isotherm data\n",
    "df_N2 = pd.read_csv(\"N2_UTSA80.csv\")\n",
    "df_CO2 = pd.read_csv(\"CO2_UTSA80.csv\")\n",
    "\n",
    "# Create pyIAST isotherm objects\n",
    "N2_isotherm = pyiast.InterpolatorIsotherm(df_N2, loading_key=\"N2 loading [mol/kg]\", pressure_key=\"Pressure [bar]\")\n",
    "CO2_isotherm = pyiast.InterpolatorIsotherm(df_CO2, loading_key=\"CO2 loading [mol/kg]\", pressure_key=\"Pressure [bar]\")\n",
    "\n",
    "# Mixture composition\n",
    "y_N2 = 0.85\n",
    "y_CO2 = 0.15\n",
    "\n",
    "# Pressures of interest\n",
    "pressure = [0.2, 1.01325]\n",
    "\n",
    "print(\"Pressure (bar) | CO2 loading (mol/kg) | N2 loading (mol/kg) | Selectivity (CO2/CH4)\")\n",
    "print(\"-\" * 70)\n",
    "for p in pressure:\n",
    "    # Partial pressures for each component\n",
    "    p_CO2 = p * y_CO2\n",
    "    p_N2 = p * y_N2\n",
    "    # Get loadings from pyIAST\n",
    "    results = pyiast.iast([p_CO2, p_N2], [CO2_isotherm, N2_isotherm])\n",
    "    q_CO2 = results[0]\n",
    "    q_N2 = results[1]\n",
    "    # Calculate selectivity: S = (q_CO2 / y_CO2) / (q_CH4 / y_CH4)\n",
    "    selectivity = (q_CO2 / y_CO2) / (q_N2 / y_N2)\n",
    "    print(f\"{p:>13} | {q_CO2:>18.4f} | {q_N2:>18.4f} | {selectivity:>22.2f}\")"
   ]
  }
 ],
 "metadata": {
  "kernelspec": {
   "display_name": "StereoChem",
   "language": "python",
   "name": "python3"
  },
  "language_info": {
   "codemirror_mode": {
    "name": "ipython",
    "version": 3
   },
   "file_extension": ".py",
   "mimetype": "text/x-python",
   "name": "python",
   "nbconvert_exporter": "python",
   "pygments_lexer": "ipython3",
   "version": "3.10.13"
  }
 },
 "nbformat": 4,
 "nbformat_minor": 2
}
