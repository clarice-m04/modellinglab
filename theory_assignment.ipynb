{
 "cells": [
  {
   "cell_type": "code",
   "execution_count": 6,
   "metadata": {},
   "outputs": [],
   "source": [
    "import matplotlib.pylab as plt \n",
    "import numpy as np\n",
    "import sklearn\n",
    "from sklearn.pipeline import Pipeline\n",
    "from sklearn.preprocessing import PolynomialFeatures\n",
    "from sklearn.linear_model import LinearRegression, Ridge"
   ]
  },
  {
   "cell_type": "markdown",
   "metadata": {},
   "source": [
    "# 1. Cost functions"
   ]
  },
  {
   "cell_type": "markdown",
   "metadata": {},
   "source": [
    "Lets focus on linear regression of the form: \n",
    "\n",
    "$$\\mathbf{y} \\approx f(\\mathbf{X}) = \\mathbf{X}\\mathbf{w_1} + \\mathbf{w_0}$$\n"
   ]
  },
  {
   "cell_type": "markdown",
   "metadata": {},
   "source": [
    "#### 1.1 What are the rows of $\\mathbf{X}$?"
   ]
  },
  {
   "cell_type": "markdown",
   "metadata": {},
   "source": [
    "The rows of $\\mathbf{X}$ represent individual data samples or obeservations. Each row contains the values of all input variables for a single sample in the dataset. For example, if there are $N$ data points and $d$ input variables, then each row corresponds to one data point with its $d$ input variables.\\\n",
    "To have a concrete example, consider that we are prediciting house prices with three features:\n",
    "- size (in $m^2$)\n",
    "- number of bedrooms\n",
    "- age of the house (in years) \n",
    "\n",
    "If put in the format of an $\\mathbf{X}$ matrix, it would look like: \n",
    "\n",
    "| House (row) | Size (m²) | Bedrooms | Age (years) |\n",
    "|-------------|-----------|----------|-------------|\n",
    "| 1           |   100     |    3     |     10      |\n",
    "| 2           |    80     |    2     |     20      |\n",
    "| 3           |   120     |    4     |      5      |\n",
    "| 4           |    90     |    3     |     15      |\n",
    "\n",
    "So each row is a house (data sample, $N$) and each column is a input variable (size, bedrooms, age, $d$)."
   ]
  },
  {
   "cell_type": "markdown",
   "metadata": {},
   "source": [
    "#### 1.2 What are the columns of $\\mathbf{X}$?"
   ]
  },
  {
   "cell_type": "markdown",
   "metadata": {},
   "source": [
    "The columns of $\\mathbf{X}$ represent the different input variables in the dataset. Each column contains the values of a single input variable for all samples. Taking the same example as previously, if there are $d$ input variables, then there are $d$ columns and each column corresponds to one specific input variable across all data points. Taking, the previous house example as well, this would be the size, bedrooms or age."
   ]
  },
  {
   "cell_type": "markdown",
   "metadata": {},
   "source": [
    "Often, we write the equation above as:\n",
    "\n",
    "$$\\mathbf{y} \\approx \\mathbf{\\tilde{X}}\\mathbf{w}$$"
   ]
  },
  {
   "cell_type": "markdown",
   "metadata": {},
   "source": [
    "#### 1.3 How does $\\mathbf{\\tilde{X}}$ look like in this case (i.e., how does the shape of the matrix change compared to $\\mathbf{X}$)?"
   ]
  },
  {
   "cell_type": "markdown",
   "metadata": {},
   "source": [
    "In this case, $\\mathbf{\\tilde{X}}$ is the matrix $\\mathbf{X}$ with an extra column of ones added to account for the intercept term in linear regression.\\\n",
    "If $\\mathbf{X}$ originally has shape $(N,d)$ (as previously with $N$ number of samples and $d$ the number of input variables), then $\\mathbf{\\tilde{X}}$ will have shape $(N, d + 1)$. The extra column of ones allows the model to learn the intercept, previously named $\\mathbf{w_0}$. This value allows the model to fit data that does not pass through the origin (0,0). \\\n",
    "Coming back to the previous house example, if $\\mathbf{X}$ is:\n",
    "$$\n",
    "\\mathbf{X} = \\begin{bmatrix}\n",
    "100 & 3 & 10 \\\\\n",
    "80 & 2 & 20 \\\\\n",
    "120 & 4 & 5 \\\\\n",
    "90 & 3 & 15 \\\\\n",
    "\\end{bmatrix}\n",
    "$$\n",
    "\n",
    "then $\\mathbf{\\tilde{X}}$ (with an extra column of ones for the intercept) is:\n",
    "$$\n",
    "\\mathbf{\\tilde{X}} = \\begin{bmatrix}\n",
    "100 & 3 & 10 & 1 \\\\\n",
    "80 & 2 & 20 & 1 \\\\\n",
    "120 & 4 & 5 & 1 \\\\\n",
    "90 & 3 & 15 & 1 \\\\\n",
    "\\end{bmatrix}\n",
    "$$\n",
    "\n",
    "So here there is a change from a $\\mathbf{4 \\times 3}$ to a $\\mathbf{4 \\times 4}$ matrix."
   ]
  },
  {
   "cell_type": "markdown",
   "metadata": {},
   "source": [
    "For machine learning, we need a cost function. Two common choices are the mean-squared error (MSE, $\\mathcal{L}_2$), and the mean-absolute error (MAE, $\\mathcal{L}_1$)\n",
    "\n",
    "\\begin{align}\n",
    "    \\mathcal{L}_2 &=& \\frac{1}{N} \\sum_{i=1}^N \\left(y_i - f(x_i) \\right)^2 \\\\\n",
    "    \\mathcal{L}_1 &=& \\frac{1}{N} \\sum_{i=1}^N \\left|y_i - f(x_i) \\right| \n",
    "\\end{align}"
   ]
  },
  {
   "cell_type": "markdown",
   "metadata": {},
   "source": [
    "#### 1.4 In the Jupyter notebook, write a Python function that computes these two cost functions given an error term $\\boldsymbol{\\epsilon} = \\mathbf{y} - \\mathbf{\\tilde{X}}\\mathbf{w}$."
   ]
  },
  {
   "cell_type": "code",
   "execution_count": 8,
   "metadata": {},
   "outputs": [],
   "source": [
    "def mean_squared_error(error_vector):\n",
    "    mean_squared_error = np.mean(error_vector ** 2)\n",
    "    return mean_squared_error\n"
   ]
  },
  {
   "cell_type": "code",
   "execution_count": 9,
   "metadata": {},
   "outputs": [],
   "source": [
    "def mean_absolute_error(error_vector):\n",
    "    mean_absolute_error = np.mean(np.abs(error_vector))\n",
    "    return mean_absolute_error"
   ]
  },
  {
   "cell_type": "code",
   "execution_count": null,
   "metadata": {},
   "outputs": [
    {
     "name": "stdout",
     "output_type": "stream",
     "text": [
      "0.0\n",
      "1.0\n"
     ]
    }
   ],
   "source": [
    "#Test celln for what code should run\n",
    "\n",
    "print(mean_squared_error(np.array([0, 0, 0])))\n",
    "print(mean_squared_error(np.array([1, 1, 1])))"
   ]
  },
  {
   "cell_type": "markdown",
   "metadata": {},
   "source": [
    "Your code should run as follows"
   ]
  },
  {
   "cell_type": "markdown",
   "metadata": {},
   "source": [
    "```python\n",
    "mean_squared_error(np.array([0,0,0]))\n",
    "> returns 0\n",
    "```\n",
    "\n",
    "```python\n",
    "mean_squared_error(np.array([1,1,1]))\n",
    "> returns 1\n",
    "```"
   ]
  },
  {
   "cell_type": "markdown",
   "metadata": {},
   "source": [
    "#### 1.5 What is the shape of these cost functions as a function of the error?"
   ]
  },
  {
   "cell_type": "code",
   "execution_count": 12,
   "metadata": {},
   "outputs": [],
   "source": [
    "x_axis = np.linspace(-10,10,100) # change as you wish for your plot\n",
    "y_mae = [mean_absolute_error(x) for x in x_axis]\n",
    "y_mse = [mean_squared_error(x) for x in x_axis]"
   ]
  },
  {
   "cell_type": "code",
   "execution_count": 13,
   "metadata": {},
   "outputs": [
    {
     "data": {
      "text/plain": [
       "Text(0, 0.5, 'cost function')"
      ]
     },
     "execution_count": 13,
     "metadata": {},
     "output_type": "execute_result"
    },
    {
     "data": {
      "image/png": "[encoded data removed]",
      "text/plain": [
       "<Figure size 640x480 with 1 Axes>"
      ]
     },
     "metadata": {},
     "output_type": "display_data"
    }
   ],
   "source": [
    "plt.plot(x_axis, y_mse, label='MSE')\n",
    "plt.plot(x_axis, y_mae, label='MAE')\n",
    "plt.xlabel('error term')\n",
    "plt.ylabel('cost function')"
   ]
  },
  {
   "cell_type": "markdown",
   "metadata": {},
   "source": [
    "The MSE cost function has a parabolic form that increases quadratically with error, making it highly sensitive to large deviations. In contrast, the MAE cost function is V-shaped and increases linearly, giving equal importance to all errors and being more robust to outliers."
   ]
  },
  {
   "cell_type": "markdown",
   "metadata": {},
   "source": [
    "#### 1.6  Are both loss functions differentiable for all $\\boldsymbol{\\epsilon}$? What implications does this have for gradient based optimization like gradient descent?"
   ]
  },
  {
   "cell_type": "markdown",
   "metadata": {},
   "source": [
    "#### Differentiability and Implications for Gradient-Based Optimization\n",
    "\n",
    "Let the prediction error be denoted by: $$\\epsilon = \\hat{y} - y$$\n",
    "\n",
    "##### Mean Squared Error (MSE)\n",
    "$$J_{\\text{MSE}}(\\epsilon) = \\epsilon^2$$\n",
    "The derivative is:\n",
    "$$\\frac{dJ_{\\text{MSE}}}{d\\epsilon} = 2\\epsilon$$\n",
    "The MSE loss function is smooth and differentiable for all $\\epsilon$.  \n",
    "This implies that its gradient increases linearly with the error magnitude, meaning large errors produce larger updates during optimization.  \n",
    "This property allows gradient descent and other first-order methods to converge efficiently and smoothly.\n",
    "\n",
    "##### Mean Absolute Error (MAE)\n",
    "$$J_{\\text{MAE}}(\\epsilon) = |\\epsilon|$$\n",
    "The derivative is:\n",
    "\n",
    "$$\\frac{dJ_{\\text{MAE}}}{d\\epsilon} =\n",
    "\\begin{cases}\n",
    "+1, & \\text{if } \\epsilon > 0 \\\\\n",
    "-1, & \\text{if } \\epsilon < 0\n",
    "\\end{cases}\n",
    "$$\n",
    "At $\\epsilon = 0$, the derivative is undefined due to the sharp corner at the origin.\n",
    "\n",
    "As a result, the MAE loss function is not differentiable at $\\epsilon = 0$, though it is differentiable everywhere else.  \n",
    "This implies that in gradient-based optimization, this causes issues because the gradient direction changes abruptly near zero, and algorithms must rely on subgradients or smoothing approximations.  \n",
    "Despite this, MAE remains more robust to outliers, since its gradient magnitude is constant and not amplified by large errors.\n",
    "\n",
    "\n",
    "  \n",
    "Overall,the MSE cost function is fully differentiable and well-suited for standard gradient descent, while the MAE function introduces a non-differentiable point at zero, making optimization less smooth but more resistant to outliers.\n"
   ]
  },
  {
   "cell_type": "markdown",
   "metadata": {},
   "source": [
    "#### 1.7 Which loss function is more sensitive to outliers and why?"
   ]
  },
  {
   "cell_type": "markdown",
   "metadata": {},
   "source": [
    "##### Mean Squared Error (MSE)\n",
    "$$\n",
    "J_{\\text{MSE}}(\\epsilon) = \\epsilon^2\n",
    "$$\n",
    "\n",
    "The MSE loss squares each error term, which means that large errors are amplified quadratically.  \n",
    "For example, an error of $\\epsilon = 5$ contributes $25$ units to the cost, while an error of $\\epsilon = 10$ contributes $100$.  \n",
    "This rapid increase causes outliers: data points with large deviations from the predicted value—to dominate the total loss.\n",
    "\n",
    "This means:\n",
    "- Even a single large error can significantly affect the model’s parameter updates (as mentioned previously).\n",
    "- Gradient descent will produce disproportionately large gradients for outliers, leading the model to adjust strongly in an attempt to reduce those few large errors.\n",
    "- As a result, the model becomes highly sensitive to noisy or extreme data points.\n",
    "\n",
    "MSE’s gradient is:\n",
    "$$\n",
    "\\frac{dJ_{\\text{MSE}}}{d\\epsilon} = 2\\epsilon\n",
    "$$\n",
    "which directly scales with the error magnitude, further reinforcing the influence of outliers on the optimization trajectory.\n",
    "\n",
    "##### Mean Absolute Error (MAE)\n",
    "$$\n",
    "J_{\\text{MAE}}(\\epsilon) = |\\epsilon|\n",
    "$$\n",
    "\n",
    "The MAE loss grows linearly with the size of the error:\n",
    "- An error of $\\epsilon = 5$ contributes $5$ units to the cost,\n",
    "- An error of $\\epsilon = 10$ contributes $10$,\n",
    "so the relative impact of larger errors is much smaller than in MSE.\n",
    "\n",
    "Its gradient is constant in magnitude:\n",
    "$$\n",
    "\\frac{dJ_{\\text{MAE}}}{d\\epsilon} =\n",
    "\\begin{cases}\n",
    "+1, & \\text{if } \\epsilon > 0 \\\\\n",
    "-1, & \\text{if } \\epsilon < 0\n",
    "\\end{cases}\n",
    "$$\n",
    "Therefore, each data point contributes equally to the total gradient update, regardless of how large its error is.  \n",
    "This makes MAE robust to outliers, since extreme values do not cause large swings in the loss or gradient.\\\n",
    "In conclusion, the Mean Squared Error (MSE) is more sensitive to outliers because its quadratic term heavily penalizes large deviations, causing them to dominate both the total cost and the gradient updates.  \n",
    "In contrast, the Mean Absolute Error (MAE) grows linearly with error magnitude, so extreme values have a proportionally smaller effect, making it more robust to noise and outliers.\n",
    "\n"
   ]
  },
  {
   "cell_type": "markdown",
   "metadata": {},
   "source": [
    "# 2. Regularization"
   ]
  },
  {
   "cell_type": "markdown",
   "metadata": {},
   "source": [
    "Assume that the columns of $\\mathbf{X}$ are linearly independent.\n",
    "As a refresher of linear algebra, recall when the linear system $\\mathbf{X}\\mathbf{w} = \\mathbf{y}$ has"
   ]
  },
  {
   "cell_type": "markdown",
   "metadata": {},
   "source": [
    "#### 2.1 One unique solution"
   ]
  },
  {
   "cell_type": "markdown",
   "metadata": {},
   "source": [
    "__< Your answer >__"
   ]
  },
  {
   "cell_type": "markdown",
   "metadata": {},
   "source": [
    "#### 2.2 No solution"
   ]
  },
  {
   "cell_type": "markdown",
   "metadata": {},
   "source": [
    "__< Your answer >__"
   ]
  },
  {
   "cell_type": "markdown",
   "metadata": {},
   "source": [
    "#### 2.3 An infinite number of solutions"
   ]
  },
  {
   "cell_type": "markdown",
   "metadata": {},
   "source": [
    "__< Your answer >__"
   ]
  },
  {
   "cell_type": "markdown",
   "metadata": {},
   "source": [
    "#### 2.4 Give a geometrical interpretation of the matrix Rank (10 bonus point if you use the Manim package)"
   ]
  },
  {
   "cell_type": "markdown",
   "metadata": {},
   "source": [
    "__< Your answer >__"
   ]
  },
  {
   "cell_type": "markdown",
   "metadata": {},
   "source": [
    "#### 2.5 In general, why can't we solve the linear equation using $\\mathbf{y} = \\tilde{\\mathbf{X}}^{-1}\\textbf{w}$? (1 point)"
   ]
  },
  {
   "cell_type": "markdown",
   "metadata": {},
   "source": [
    "__< Your answer >__"
   ]
  },
  {
   "cell_type": "markdown",
   "metadata": {},
   "source": [
    "#### 2.6 Differentiate above formula step by step and show what will we have?"
   ]
  },
  {
   "cell_type": "markdown",
   "metadata": {},
   "source": [
    "__< Your answer >__"
   ]
  },
  {
   "cell_type": "markdown",
   "metadata": {},
   "source": [
    "#### 2.7 if we want $\\| y - \\tilde{X} w \\|_2^2$ to be minimum, what should the derivative be equal to?"
   ]
  },
  {
   "cell_type": "markdown",
   "metadata": {},
   "source": [
    "__< Your answer >__"
   ]
  },
  {
   "cell_type": "markdown",
   "metadata": {},
   "source": [
    "#### 2.8 What is the Hat matrix and what does its diagonal values correspond to?"
   ]
  },
  {
   "cell_type": "markdown",
   "metadata": {},
   "source": [
    "__< Your answer >__"
   ]
  },
  {
   "cell_type": "markdown",
   "metadata": {},
   "source": [
    "#### 2.9 What is Willson’s plot and how does it help in outlier detection?"
   ]
  },
  {
   "cell_type": "markdown",
   "metadata": {},
   "source": [
    "__< Your answer >__"
   ]
  },
  {
   "cell_type": "markdown",
   "metadata": {},
   "source": [
    "#### 2.10 What happens if some columns are linearly dependent? What is the connection to feature selection?"
   ]
  },
  {
   "cell_type": "markdown",
   "metadata": {},
   "source": [
    "__< Your answer >__"
   ]
  },
  {
   "cell_type": "markdown",
   "metadata": {},
   "source": [
    "#### 2.11 What will be the new cost function after adding the regularization term?"
   ]
  },
  {
   "cell_type": "markdown",
   "metadata": {},
   "source": [
    "__< Your answer >__"
   ]
  },
  {
   "cell_type": "markdown",
   "metadata": {},
   "source": [
    "#### 2.12 What will be the new 𝑤 when we differentiate the new cost function and set it to zero."
   ]
  },
  {
   "cell_type": "markdown",
   "metadata": {},
   "source": [
    "__< Your answer >__"
   ]
  },
  {
   "cell_type": "markdown",
   "metadata": {},
   "source": [
    "#### 2.13 Prove that the part of Hat matrix where we want to take the inverse from is always reversible after we introduce the regularization term."
   ]
  },
  {
   "cell_type": "markdown",
   "metadata": {},
   "source": [
    "__< Your answer >__"
   ]
  },
  {
   "cell_type": "markdown",
   "metadata": {},
   "source": [
    "#### 2.14  What is the shape of the parabola as a function of $a$?"
   ]
  },
  {
   "cell_type": "code",
   "execution_count": 14,
   "metadata": {},
   "outputs": [],
   "source": [
    "def parabola(x, a = 1): \n",
    "    return a * x ** 2"
   ]
  },
  {
   "cell_type": "code",
   "execution_count": 17,
   "metadata": {},
   "outputs": [],
   "source": [
    "x_axis_parabola = np.linspace(-10, 10, 100)"
   ]
  },
  {
   "cell_type": "code",
   "execution_count": 18,
   "metadata": {},
   "outputs": [
    {
     "data": {
      "text/plain": [
       "[<matplotlib.lines.Line2D at 0x7f91b8f161d0>]"
      ]
     },
     "execution_count": 18,
     "metadata": {},
     "output_type": "execute_result"
    },
    {
     "data": {
      "image/png": "[encoded data removed]",
      "text/plain": [
       "<Figure size 432x288 with 1 Axes>"
      ]
     },
     "metadata": {
      "needs_background": "light"
     },
     "output_type": "display_data"
    }
   ],
   "source": [
    "plt.plot(x_axis_parabola, parabola(x_axis_parabola))"
   ]
  },
  {
   "cell_type": "markdown",
   "metadata": {},
   "source": [
    "__< Your answer >__"
   ]
  },
  {
   "cell_type": "markdown",
   "metadata": {},
   "source": [
    "#### 2.15 Plot the approximation to the function for different order polynomials ($N \\in \\{1, 2, 16\\}$) and with different regularization strength ($\\lambda \\in \\{0, 10^{-3}, 10^{-2}, 1\\}$). What do you observe "
   ]
  },
  {
   "cell_type": "code",
   "execution_count": 22,
   "metadata": {},
   "outputs": [],
   "source": [
    "def true_function(X):\n",
    "    return np.cos(1.5 * np.pi * X)"
   ]
  },
  {
   "cell_type": "code",
   "execution_count": 26,
   "metadata": {},
   "outputs": [],
   "source": [
    "X_test = np.linspace(0, 1, 100) # some grid for us on the x axis"
   ]
  },
  {
   "cell_type": "code",
   "execution_count": 48,
   "metadata": {},
   "outputs": [],
   "source": [
    "n_samples = 10 # the number of points we will sample from true_function\n",
    "degrees = [1, 2, 16] # the polynomial degrees we will test\n",
    "\n",
    "X = np.sort(np.random.rand(n_samples))\n",
    "y = true_function(X) + np.random.randn(n_samples) * 0.1 # add some scaled random noise"
   ]
  },
  {
   "cell_type": "code",
   "execution_count": 49,
   "metadata": {},
   "outputs": [
    {
     "data": {
      "text/plain": [
       "<matplotlib.legend.Legend at 0x7f91ba9a5ed0>"
      ]
     },
     "execution_count": 49,
     "metadata": {},
     "output_type": "execute_result"
    },
    {
     "data": {
      "image/png": "[encoded data removed]",
      "text/plain": [
       "<Figure size 432x288 with 1 Axes>"
      ]
     },
     "metadata": {
      "needs_background": "light"
     },
     "output_type": "display_data"
    }
   ],
   "source": [
    "plt.scatter(X, y, label='noisy samples')\n",
    "plt.plot(X_test, true_function(X_test), c='r', label='true function')\n",
    "plt.legend()"
   ]
  },
  {
   "cell_type": "markdown",
   "metadata": {},
   "source": [
    "The following code will fit a polynomial regression, you need to fill the degree"
   ]
  },
  {
   "cell_type": "code",
   "execution_count": null,
   "metadata": {},
   "outputs": [],
   "source": [
    "polynomial_features = PolynomialFeatures(degree=#FILLEME,\n",
    "                                             include_bias=False)\n",
    "linear_regression = LinearRegression()\n",
    "pipeline = Pipeline([(\"polynomial_features\", polynomial_features),\n",
    "                     (\"linear_regression\", linear_regression)])\n",
    "pipeline.fit(X[:, np.newaxis], y)"
   ]
  },
  {
   "cell_type": "markdown",
   "metadata": {},
   "source": [
    "To plot the result, you can use the following code"
   ]
  },
  {
   "cell_type": "code",
   "execution_count": null,
   "metadata": {},
   "outputs": [],
   "source": [
    "plt.plot(X_test, pipeline.predict(X_test[:, np.newaxis]), label=\"model of degree \")\n",
    "plt.scatter(X, y, label='noisy samples')\n",
    "plt.plot(X_test, true_function(X_test), c='r', label='true function')\n",
    "plt.legend()"
   ]
  },
  {
   "cell_type": "markdown",
   "metadata": {},
   "source": [
    "Next, we can investigate the effect of the regularization parameter $\\lambda$ (function parameter `alpha`), For this, you can use the following code "
   ]
  },
  {
   "cell_type": "code",
   "execution_count": null,
   "metadata": {},
   "outputs": [],
   "source": [
    "polynomial_features = PolynomialFeatures(degree=#fillme,\n",
    "                                             include_bias=False)\n",
    "ridge_regression = Ridge(alpha=#fillme)\n",
    "pipeline_ridge = Pipeline([(\"polynomial_features\", polynomial_features),\n",
    "                     (\"ridge_regression\", ridge_regression)])\n",
    "pipeline_ridge.fit(X[:, np.newaxis], y)\n"
   ]
  },
  {
   "cell_type": "markdown",
   "metadata": {},
   "source": [
    "For plotting you can reuse the following code"
   ]
  },
  {
   "cell_type": "code",
   "execution_count": 53,
   "metadata": {},
   "outputs": [
    {
     "data": {
      "text/plain": [
       "<matplotlib.legend.Legend at 0x7f91baae1f90>"
      ]
     },
     "execution_count": 53,
     "metadata": {},
     "output_type": "execute_result"
    },
    {
     "data": {
      "image/png": "[encoded data removed]",
      "text/plain": [
       "<Figure size 432x288 with 1 Axes>"
      ]
     },
     "metadata": {
      "needs_background": "light"
     },
     "output_type": "display_data"
    }
   ],
   "source": [
    "plt.plot(X_test, pipeline_ridge.predict(X_test[:, np.newaxis]), label=\"model of degree with regularization strength\")\n",
    "plt.scatter(X, y, label='noisy samples')\n",
    "plt.plot(X_test, true_function(X_test), c='r', label='true function')\n",
    "plt.legend()"
   ]
  },
  {
   "cell_type": "markdown",
   "metadata": {},
   "source": [
    "#### 2.16 What do you observe if you change the number of samples from the function?"
   ]
  },
  {
   "cell_type": "markdown",
   "metadata": {},
   "source": [
    "__< Your answer >__"
   ]
  },
  {
   "cell_type": "markdown",
   "metadata": {},
   "source": [
    "#### 2.17 Why do we need a test set in machine learning?"
   ]
  },
  {
   "cell_type": "markdown",
   "metadata": {},
   "source": [
    "__< Your answer >__"
   ]
  },
  {
   "cell_type": "markdown",
   "metadata": {},
   "source": [
    "#### 2.18 If we need to optimize hyperparameters, do we use the test set to select the best hyperparameters? (1 point)"
   ]
  },
  {
   "cell_type": "markdown",
   "metadata": {},
   "source": [
    "__< Your answer >__"
   ]
  }
 ],
 "metadata": {
  "kernelspec": {
   "display_name": "ppchem",
   "language": "python",
   "name": "python3"
  },
  "language_info": {
   "codemirror_mode": {
    "name": "ipython",
    "version": 3
   },
   "file_extension": ".py",
   "mimetype": "text/x-python",
   "name": "python",
   "nbconvert_exporter": "python",
   "pygments_lexer": "ipython3",
   "version": "3.10.16"
  }
 },
 "nbformat": 4,
 "nbformat_minor": 4
}
